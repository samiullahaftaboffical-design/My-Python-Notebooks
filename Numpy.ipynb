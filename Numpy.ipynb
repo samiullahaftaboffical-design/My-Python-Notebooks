{
 "cells": [
  {
   "cell_type": "code",
   "execution_count": 1,
   "id": "8cfa0f13",
   "metadata": {},
   "outputs": [
    {
     "name": "stdout",
     "output_type": "stream",
     "text": [
      "10\n"
     ]
    },
    {
     "data": {
      "text/plain": [
       "(2, 5)"
      ]
     },
     "execution_count": 1,
     "metadata": {},
     "output_type": "execute_result"
    }
   ],
   "source": [
    "import numpy as np\n",
    "l=np.array([[1,2,3,4,5],[6,7,8,9,10]])\n",
    "print(l[1][4])\n",
    "l.shape"
   ]
  },
  {
   "cell_type": "code",
   "execution_count": 16,
   "id": "beeb4e2f",
   "metadata": {},
   "outputs": [
    {
     "data": {
      "text/plain": [
       "(2, 1, 2)"
      ]
     },
     "execution_count": 16,
     "metadata": {},
     "output_type": "execute_result"
    }
   ],
   "source": [
    "a=np.array([[[1,2]],[[3,4]]])\n",
    "a.shape"
   ]
  },
  {
   "cell_type": "code",
   "execution_count": 2,
   "id": "dfb66e75",
   "metadata": {},
   "outputs": [
    {
     "data": {
      "text/plain": [
       "array([{38: 'Jon', 61: 'Alex', 93: 'Adam'},\n",
       "       {85: 'Buttler', 33: 'Smith', 81: 'Ben'}], dtype=object)"
      ]
     },
     "execution_count": 2,
     "metadata": {},
     "output_type": "execute_result"
    }
   ],
   "source": [
    "b=np.array([{38:\"Jon\",61:\"Alex\",93:\"Adam\"},{85:\"Buttler\",33:\"Smith\",81:\"Ben\"}],dtype=dict)\n",
    "b"
   ]
  },
  {
   "cell_type": "code",
   "execution_count": 2,
   "id": "80660022",
   "metadata": {},
   "outputs": [
    {
     "data": {
      "text/plain": [
       "array([[1, 2, 3],\n",
       "       [4, 5, 6],\n",
       "       [7, 8, 9]])"
      ]
     },
     "execution_count": 2,
     "metadata": {},
     "output_type": "execute_result"
    }
   ],
   "source": [
    "import numpy as np\n",
    "np.arange(1,10).reshape(3,3)"
   ]
  },
  {
   "cell_type": "code",
   "execution_count": 8,
   "id": "dfe9f372",
   "metadata": {},
   "outputs": [
    {
     "data": {
      "text/plain": [
       "array([[1., 1., 1., 1.],\n",
       "       [1., 1., 1., 1.],\n",
       "       [1., 1., 1., 1.]])"
      ]
     },
     "execution_count": 8,
     "metadata": {},
     "output_type": "execute_result"
    }
   ],
   "source": [
    "np.ones((3,4))"
   ]
  },
  {
   "cell_type": "code",
   "execution_count": 9,
   "id": "0a959e1b",
   "metadata": {},
   "outputs": [
    {
     "data": {
      "text/plain": [
       "array([[0., 0., 0., 0., 0.],\n",
       "       [0., 0., 0., 0., 0.],\n",
       "       [0., 0., 0., 0., 0.]])"
      ]
     },
     "execution_count": 9,
     "metadata": {},
     "output_type": "execute_result"
    }
   ],
   "source": [
    "np.zeros((3,5))"
   ]
  },
  {
   "cell_type": "code",
   "execution_count": 10,
   "id": "d7181d92",
   "metadata": {},
   "outputs": [
    {
     "data": {
      "text/plain": [
       "array([[0.36623091, 0.61580691, 0.88010522, 0.44083829, 0.49979197],\n",
       "       [0.06390526, 0.12469889, 0.03643677, 0.16715858, 0.92743179]])"
      ]
     },
     "execution_count": 10,
     "metadata": {},
     "output_type": "execute_result"
    }
   ],
   "source": [
    "np.random.random((2,5))"
   ]
  },
  {
   "cell_type": "code",
   "execution_count": 11,
   "id": "8583ea48",
   "metadata": {},
   "outputs": [
    {
     "data": {
      "text/plain": [
       "array([-100.        ,  -77.77777778,  -55.55555556,  -33.33333333,\n",
       "        -11.11111111,   11.11111111,   33.33333333,   55.55555556,\n",
       "         77.77777778,  100.        ])"
      ]
     },
     "execution_count": 11,
     "metadata": {},
     "output_type": "execute_result"
    }
   ],
   "source": [
    "np.linspace(-100,100,10)"
   ]
  },
  {
   "cell_type": "code",
   "execution_count": 12,
   "id": "aebba8c9",
   "metadata": {},
   "outputs": [
    {
     "data": {
      "text/plain": [
       "array([[1., 0., 0., 0., 0.],\n",
       "       [0., 1., 0., 0., 0.],\n",
       "       [0., 0., 1., 0., 0.],\n",
       "       [0., 0., 0., 1., 0.],\n",
       "       [0., 0., 0., 0., 1.]])"
      ]
     },
     "execution_count": 12,
     "metadata": {},
     "output_type": "execute_result"
    }
   ],
   "source": [
    "np.identity(5)"
   ]
  },
  {
   "cell_type": "code",
   "execution_count": 38,
   "id": "726e086e",
   "metadata": {},
   "outputs": [
    {
     "name": "stdout",
     "output_type": "stream",
     "text": [
      "[[ 0  1  2  3]\n",
      " [ 4  5  6  7]\n",
      " [ 8  9 10 11]\n",
      " [12 13 14 15]]\n"
     ]
    },
    {
     "data": {
      "text/plain": [
       "array([[1, 2, 3],\n",
       "       [5, 6, 7]])"
      ]
     },
     "execution_count": 38,
     "metadata": {},
     "output_type": "execute_result"
    }
   ],
   "source": [
    "n=np.arange(16).reshape(4,4)\n",
    "print(n)\n",
    "n[0:2,1:4]"
   ]
  },
  {
   "cell_type": "code",
   "execution_count": 6,
   "id": "9b6a1293",
   "metadata": {},
   "outputs": [
    {
     "name": "stdout",
     "output_type": "stream",
     "text": [
      "[[[ 0  1  2]\n",
      "  [ 3  4  5]\n",
      "  [ 6  7  8]]\n",
      "\n",
      " [[ 9 10 11]\n",
      "  [12 13 14]\n",
      "  [15 16 17]]\n",
      "\n",
      " [[18 19 20]\n",
      "  [21 22 23]\n",
      "  [24 25 26]]]\n"
     ]
    },
    {
     "data": {
      "text/plain": [
       "array([[ 0,  2],\n",
       "       [18, 20]])"
      ]
     },
     "execution_count": 6,
     "metadata": {},
     "output_type": "execute_result"
    }
   ],
   "source": [
    "n=np.arange(27).reshape(3,3,3)\n",
    "print(n)\n",
    "# n[1,::,::]\n",
    "# n[2,1:3,1:3]\n",
    "n[::2,0,::2]"
   ]
  },
  {
   "cell_type": "code",
   "execution_count": 16,
   "id": "3f12e313",
   "metadata": {},
   "outputs": [
    {
     "data": {
      "text/plain": [
       "4"
      ]
     },
     "execution_count": 16,
     "metadata": {},
     "output_type": "execute_result"
    }
   ],
   "source": [
    "n.ndim"
   ]
  },
  {
   "cell_type": "code",
   "execution_count": 17,
   "id": "cdc43136",
   "metadata": {},
   "outputs": [
    {
     "data": {
      "text/plain": [
       "(2, 2, 2, 2)"
      ]
     },
     "execution_count": 17,
     "metadata": {},
     "output_type": "execute_result"
    }
   ],
   "source": [
    "n.shape"
   ]
  },
  {
   "cell_type": "code",
   "execution_count": 18,
   "id": "39788c94",
   "metadata": {},
   "outputs": [
    {
     "data": {
      "text/plain": [
       "16"
      ]
     },
     "execution_count": 18,
     "metadata": {},
     "output_type": "execute_result"
    }
   ],
   "source": [
    "n.size"
   ]
  },
  {
   "cell_type": "code",
   "execution_count": null,
   "id": "46035a14",
   "metadata": {},
   "outputs": [
    {
     "data": {
      "text/plain": [
       "8"
      ]
     },
     "execution_count": 21,
     "metadata": {},
     "output_type": "execute_result"
    }
   ],
   "source": [
    "n.itemsize"
   ]
  },
  {
   "cell_type": "code",
   "execution_count": 22,
   "id": "1c14cf99",
   "metadata": {},
   "outputs": [
    {
     "data": {
      "text/plain": [
       "dtype('int64')"
      ]
     },
     "execution_count": 22,
     "metadata": {},
     "output_type": "execute_result"
    }
   ],
   "source": [
    "n.dtype"
   ]
  },
  {
   "cell_type": "code",
   "execution_count": 28,
   "id": "ad7c6bf7",
   "metadata": {},
   "outputs": [
    {
     "data": {
      "text/plain": [
       "dtype('int32')"
      ]
     },
     "execution_count": 28,
     "metadata": {},
     "output_type": "execute_result"
    }
   ],
   "source": [
    "n=n.astype(np.int32)\n",
    "n.dtype"
   ]
  },
  {
   "cell_type": "code",
   "execution_count": null,
   "id": "10a9ff7d",
   "metadata": {},
   "outputs": [
    {
     "data": {
      "text/plain": [
       "array([[ 2,  3,  4],\n",
       "       [ 5,  6,  7],\n",
       "       [ 8,  9, 10]])"
      ]
     },
     "execution_count": 10,
     "metadata": {},
     "output_type": "execute_result"
    }
   ],
   "source": [
    "a=np.array([[1],[4],[7]])\n",
    "b=np.array([1,2,3])\n",
    "b+a\n"
   ]
  },
  {
   "cell_type": "code",
   "execution_count": null,
   "id": "398626c9",
   "metadata": {},
   "outputs": [
    {
     "data": {
      "text/plain": [
       "array([[89., 16.,  5.],\n",
       "       [37., 94., 19.],\n",
       "       [19., 14., 24.]])"
      ]
     },
     "execution_count": 21,
     "metadata": {},
     "output_type": "execute_result"
    }
   ],
   "source": [
    "x=np.random.random((3,3))\n",
    "x=np.round(x*100)\n",
    "x"
   ]
  },
  {
   "cell_type": "code",
   "execution_count": 22,
   "id": "7c2861bb",
   "metadata": {},
   "outputs": [
    {
     "data": {
      "text/plain": [
       "np.float64(94.0)"
      ]
     },
     "execution_count": 22,
     "metadata": {},
     "output_type": "execute_result"
    }
   ],
   "source": [
    "np.max(x)"
   ]
  },
  {
   "cell_type": "code",
   "execution_count": 23,
   "id": "83f4516e",
   "metadata": {},
   "outputs": [
    {
     "data": {
      "text/plain": [
       "np.float64(5.0)"
      ]
     },
     "execution_count": 23,
     "metadata": {},
     "output_type": "execute_result"
    }
   ],
   "source": [
    "np.min(x)"
   ]
  },
  {
   "cell_type": "code",
   "execution_count": null,
   "id": "ad064a67",
   "metadata": {},
   "outputs": [
    {
     "data": {
      "text/plain": [
       "array([110., 150.,  57.])"
      ]
     },
     "execution_count": 29,
     "metadata": {},
     "output_type": "execute_result"
    }
   ],
   "source": [
    "np.sum(x)"
   ]
  },
  {
   "cell_type": "code",
   "execution_count": 27,
   "id": "097e1c49",
   "metadata": {},
   "outputs": [
    {
     "data": {
      "text/plain": [
       "np.float64(3003696514560.0)"
      ]
     },
     "execution_count": 27,
     "metadata": {},
     "output_type": "execute_result"
    }
   ],
   "source": [
    "np.prod(x)"
   ]
  },
  {
   "cell_type": "code",
   "execution_count": 35,
   "id": "7c668dd9",
   "metadata": {},
   "outputs": [
    {
     "data": {
      "text/plain": [
       "array([[89., 16.,  5.],\n",
       "       [37., 94., 19.],\n",
       "       [19., 56., 24.]])"
      ]
     },
     "execution_count": 35,
     "metadata": {},
     "output_type": "execute_result"
    }
   ],
   "source": [
    "x[2][1]=56\n",
    "x"
   ]
  },
  {
   "cell_type": "code",
   "execution_count": null,
   "id": "f4f31bd0",
   "metadata": {},
   "outputs": [
    {
     "data": {
      "text/plain": [
       "array([89., 94., 24.])"
      ]
     },
     "execution_count": 40,
     "metadata": {},
     "output_type": "execute_result"
    }
   ],
   "source": [
    "np.max(x,axis=0)"
   ]
  },
  {
   "cell_type": "code",
   "execution_count": 43,
   "id": "4f0045c4",
   "metadata": {},
   "outputs": [
    {
     "data": {
      "text/plain": [
       "array([36.66666667, 50.        , 33.        ])"
      ]
     },
     "execution_count": 43,
     "metadata": {},
     "output_type": "execute_result"
    }
   ],
   "source": [
    "np.mean(x,axis=1)"
   ]
  },
  {
   "cell_type": "code",
   "execution_count": 47,
   "id": "98dafbf2",
   "metadata": {},
   "outputs": [
    {
     "data": {
      "text/plain": [
       "array([16., 37., 24.])"
      ]
     },
     "execution_count": 47,
     "metadata": {},
     "output_type": "execute_result"
    }
   ],
   "source": [
    "np.median(x,axis=1)"
   ]
  },
  {
   "cell_type": "code",
   "execution_count": 48,
   "id": "7cc45857",
   "metadata": {},
   "outputs": [
    {
     "data": {
      "text/plain": [
       "np.float64(30.76955365452618)"
      ]
     },
     "execution_count": 48,
     "metadata": {},
     "output_type": "execute_result"
    }
   ],
   "source": [
    "np.std(x)"
   ]
  },
  {
   "cell_type": "code",
   "execution_count": 49,
   "id": "eaf38358",
   "metadata": {},
   "outputs": [
    {
     "data": {
      "text/plain": [
       "np.float64(946.7654320987654)"
      ]
     },
     "execution_count": 49,
     "metadata": {},
     "output_type": "execute_result"
    }
   ],
   "source": [
    "np.var(x)"
   ]
  },
  {
   "cell_type": "code",
   "execution_count": null,
   "id": "aa051ace",
   "metadata": {},
   "outputs": [
    {
     "data": {
      "text/plain": [
       "array([[ 0.86006941, -0.28790332, -0.95892427],\n",
       "       [-0.64353813, -0.24525199,  0.14987721],\n",
       "       [ 0.14987721, -0.521551  , -0.90557836]])"
      ]
     },
     "execution_count": 51,
     "metadata": {},
     "output_type": "execute_result"
    }
   ],
   "source": [
    "np.sin(x)"
   ]
  },
  {
   "cell_type": "code",
   "execution_count": 2,
   "id": "d3a3a34d",
   "metadata": {},
   "outputs": [
    {
     "name": "stdout",
     "output_type": "stream",
     "text": [
      "No both of these matrics are not eligble for dot product \n"
     ]
    }
   ],
   "source": [
    "x=np.random.random((3,3))\n",
    "y=np.array([[10,11,12],[13,14,15]])\n",
    "if y.shape[0]==x.shape[1]:\n",
    "    print(\"Yes both of these matrics are eligble for dot product \")\n",
    "else:\n",
    "    print(\"No both of these matrics are not eligble for dot product \")\n"
   ]
  },
  {
   "cell_type": "code",
   "execution_count": 1,
   "id": "0e7dcb65",
   "metadata": {},
   "outputs": [],
   "source": [
    "import numpy as np\n"
   ]
  },
  {
   "cell_type": "code",
   "execution_count": 6,
   "id": "a903bbfc",
   "metadata": {},
   "outputs": [
    {
     "data": {
      "text/plain": [
       "array([[64., 15., 94.],\n",
       "       [50., 61., 69.],\n",
       "       [13., 48., 74.]])"
      ]
     },
     "execution_count": 6,
     "metadata": {},
     "output_type": "execute_result"
    }
   ],
   "source": [
    "np.round(x)"
   ]
  },
  {
   "cell_type": "code",
   "execution_count": 7,
   "id": "3c3281a5",
   "metadata": {},
   "outputs": [
    {
     "data": {
      "text/plain": [
       "array([[64., 15., 94.],\n",
       "       [50., 61., 69.],\n",
       "       [13., 48., 74.]])"
      ]
     },
     "execution_count": 7,
     "metadata": {},
     "output_type": "execute_result"
    }
   ],
   "source": [
    "np.floor(x)"
   ]
  },
  {
   "cell_type": "code",
   "execution_count": 8,
   "id": "7633e682",
   "metadata": {},
   "outputs": [
    {
     "data": {
      "text/plain": [
       "array([[64., 15., 94.],\n",
       "       [50., 61., 69.],\n",
       "       [13., 48., 74.]])"
      ]
     },
     "execution_count": 8,
     "metadata": {},
     "output_type": "execute_result"
    }
   ],
   "source": [
    "np.ceil(x)"
   ]
  },
  {
   "cell_type": "code",
   "execution_count": 8,
   "id": "5b24b9de",
   "metadata": {},
   "outputs": [
    {
     "name": "stdout",
     "output_type": "stream",
     "text": [
      "0\n",
      "1\n",
      "2\n",
      "3\n",
      "4\n",
      "5\n",
      "6\n",
      "7\n",
      "8\n",
      "9\n",
      "10\n",
      "11\n",
      "12\n",
      "13\n",
      "14\n",
      "15\n",
      "16\n",
      "17\n",
      "18\n",
      "19\n",
      "20\n",
      "21\n",
      "22\n",
      "23\n",
      "24\n",
      "25\n",
      "26\n"
     ]
    }
   ],
   "source": [
    "for i in np.nditer(n):\n",
    "    print(i)"
   ]
  },
  {
   "cell_type": "code",
   "execution_count": 16,
   "id": "4eab0d1c",
   "metadata": {},
   "outputs": [
    {
     "data": {
      "text/plain": [
       "array([[ 0,  1,  2,  3],\n",
       "       [ 4,  5,  6,  7],\n",
       "       [ 8,  9, 10, 11]])"
      ]
     },
     "execution_count": 16,
     "metadata": {},
     "output_type": "execute_result"
    }
   ],
   "source": [
    "y=np.arange(12).reshape(3,4)\n",
    "z=np.arange(24,36).reshape(3,4)\n",
    "y"
   ]
  },
  {
   "cell_type": "code",
   "execution_count": 14,
   "id": "f9e290ff",
   "metadata": {},
   "outputs": [
    {
     "data": {
      "text/plain": [
       "array([[ 0,  4,  8],\n",
       "       [ 1,  5,  9],\n",
       "       [ 2,  6, 10],\n",
       "       [ 3,  7, 11]])"
      ]
     },
     "execution_count": 14,
     "metadata": {},
     "output_type": "execute_result"
    }
   ],
   "source": [
    "y.T"
   ]
  },
  {
   "cell_type": "code",
   "execution_count": 13,
   "id": "f4054840",
   "metadata": {},
   "outputs": [
    {
     "data": {
      "text/plain": [
       "array([ 0,  1,  2,  3,  4,  5,  6,  7,  8,  9, 10, 11])"
      ]
     },
     "execution_count": 13,
     "metadata": {},
     "output_type": "execute_result"
    }
   ],
   "source": [
    "y.ravel()"
   ]
  },
  {
   "cell_type": "code",
   "execution_count": 19,
   "id": "815be3ef",
   "metadata": {},
   "outputs": [],
   "source": [
    "k=np.hstack((y,z))"
   ]
  },
  {
   "cell_type": "code",
   "execution_count": 18,
   "id": "10641a8f",
   "metadata": {},
   "outputs": [
    {
     "data": {
      "text/plain": [
       "array([[24, 25, 26, 27],\n",
       "       [28, 29, 30, 31],\n",
       "       [32, 33, 34, 35],\n",
       "       [ 0,  1,  2,  3],\n",
       "       [ 4,  5,  6,  7],\n",
       "       [ 8,  9, 10, 11]])"
      ]
     },
     "execution_count": 18,
     "metadata": {},
     "output_type": "execute_result"
    }
   ],
   "source": [
    "np.vstack((z,y))"
   ]
  },
  {
   "cell_type": "code",
   "execution_count": 20,
   "id": "d40c49bc",
   "metadata": {},
   "outputs": [
    {
     "data": {
      "text/plain": [
       "[array([[ 0,  1,  2,  3],\n",
       "        [ 4,  5,  6,  7],\n",
       "        [ 8,  9, 10, 11]]),\n",
       " array([[24, 25, 26, 27],\n",
       "        [28, 29, 30, 31],\n",
       "        [32, 33, 34, 35]])]"
      ]
     },
     "execution_count": 20,
     "metadata": {},
     "output_type": "execute_result"
    }
   ],
   "source": [
    "np.hsplit(k,2)"
   ]
  },
  {
   "cell_type": "code",
   "execution_count": null,
   "id": "14553351",
   "metadata": {},
   "outputs": [
    {
     "data": {
      "text/plain": [
       "[array([[ 0,  1,  2,  3, 24, 25, 26, 27]]),\n",
       " array([[ 4,  5,  6,  7, 28, 29, 30, 31]]),\n",
       " array([[ 8,  9, 10, 11, 32, 33, 34, 35]])]"
      ]
     },
     "execution_count": 29,
     "metadata": {},
     "output_type": "execute_result"
    }
   ],
   "source": [
    "np.vsplit(k,3)"
   ]
  },
  {
   "cell_type": "markdown",
   "id": "06725f24",
   "metadata": {},
   "source": [
    "Fancy Indexing"
   ]
  },
  {
   "cell_type": "code",
   "execution_count": null,
   "id": "2b4d845a",
   "metadata": {},
   "outputs": [
    {
     "name": "stdout",
     "output_type": "stream",
     "text": [
      "[[ 0  1  2  3]\n",
      " [ 4  5  6  7]\n",
      " [ 8  9 10 11]\n",
      " [12 13 14 15]\n",
      " [16 17 18 19]\n",
      " [20 21 22 23]]\n"
     ]
    },
    {
     "data": {
      "text/plain": [
       "array([[13, 14, 15],\n",
       "       [17, 18, 19],\n",
       "       [21, 22, 23]])"
      ]
     },
     "execution_count": 6,
     "metadata": {},
     "output_type": "execute_result"
    }
   ],
   "source": [
    "x=np.arange(24).reshape(6,4)\n",
    "print(x)\n",
    "x[3:7,[1,2,3]]"
   ]
  },
  {
   "cell_type": "markdown",
   "id": "2747f6d1",
   "metadata": {},
   "source": [
    "Boolean Indexing"
   ]
  },
  {
   "cell_type": "code",
   "execution_count": 17,
   "id": "3a605fbd",
   "metadata": {},
   "outputs": [
    {
     "data": {
      "text/plain": [
       "array([60, 98, 70, 78, 88, 86, 96, 80], dtype=int32)"
      ]
     },
     "execution_count": 17,
     "metadata": {},
     "output_type": "execute_result"
    }
   ],
   "source": [
    "h=np.random.randint(1,101,24).reshape(6,4)\n",
    "h[(h%2==0) & (h>50)]"
   ]
  },
  {
   "cell_type": "code",
   "execution_count": 15,
   "id": "6a2a3aa5",
   "metadata": {},
   "outputs": [
    {
     "data": {
      "text/plain": [
       "array([ 44,  30,  85,  52,  51,  82,  73,  18,   4,  95,  30,  66,  61,\n",
       "        90,  20,  50,  96,  87,  71, 100], dtype=int32)"
      ]
     },
     "execution_count": 15,
     "metadata": {},
     "output_type": "execute_result"
    }
   ],
   "source": [
    "h[h % 7!=0]"
   ]
  },
  {
   "cell_type": "code",
   "execution_count": 2,
   "id": "654edc5c",
   "metadata": {},
   "outputs": [],
   "source": [
    "import numpy as np"
   ]
  },
  {
   "cell_type": "markdown",
   "id": "7563d3ce",
   "metadata": {},
   "source": [
    "Numpy Functions"
   ]
  },
  {
   "cell_type": "code",
   "execution_count": 3,
   "id": "1aef9224",
   "metadata": {},
   "outputs": [
    {
     "name": "stdout",
     "output_type": "stream",
     "text": [
      "[ 45  48  65  68  68  10  84  22  37  88  71  89  89  13  59  66  40  88\n",
      "  47  89  82  38  26  78  73  10  21  81  70  80  48  65  83 100  89  50\n",
      "  30  20  20  15  40  33  66  10  58  33  32  75  24  36  76  56  29  35\n",
      "   1   1  37  54   6  39]\n"
     ]
    },
    {
     "data": {
      "text/plain": [
       "array([[118, 180, 105, 143, 159, 132, 102, 166, 142, 158],\n",
       "       [136, 112, 147, 183, 192, 101, 115, 200, 154, 113],\n",
       "       [143, 185, 176, 169, 107, 169, 148, 104, 177, 153],\n",
       "       [179, 116, 121, 200, 159, 124, 180, 114, 186, 149],\n",
       "       [150, 170, 142, 136, 165, 196, 170, 195, 101, 151],\n",
       "       [137, 135, 149, 194, 104, 199, 143, 178, 122, 174]], dtype=int32)"
      ]
     },
     "execution_count": 3,
     "metadata": {},
     "output_type": "execute_result"
    }
   ],
   "source": [
    "np.random.seed(0)\n",
    "n1=np.random.randint(1,101,60)\n",
    "n2=np.random.randint(101,201,60).reshape(6,10)\n",
    "print(n1)\n",
    "n2"
   ]
  },
  {
   "cell_type": "code",
   "execution_count": 25,
   "id": "ff9b5428",
   "metadata": {},
   "outputs": [
    {
     "data": {
      "text/plain": [
       "array([[118, 112, 105, 136, 104, 101, 102, 104, 101, 113],\n",
       "       [136, 116, 121, 143, 107, 124, 115, 114, 122, 149],\n",
       "       [137, 135, 142, 169, 159, 132, 143, 166, 142, 151],\n",
       "       [143, 170, 147, 183, 159, 169, 148, 178, 154, 153],\n",
       "       [150, 180, 149, 194, 165, 196, 170, 195, 177, 158],\n",
       "       [179, 185, 176, 200, 192, 199, 180, 200, 186, 174]], dtype=int32)"
      ]
     },
     "execution_count": 25,
     "metadata": {},
     "output_type": "execute_result"
    }
   ],
   "source": [
    "np.sort(n2,axis=0)"
   ]
  },
  {
   "cell_type": "code",
   "execution_count": 10,
   "id": "8a9180c3",
   "metadata": {},
   "outputs": [
    {
     "data": {
      "text/plain": [
       "array([[118., 180., 105., 143., 159., 132., 102., 166., 142., 158.,   1.],\n",
       "       [136., 112., 147., 183., 192., 101., 115., 200., 154., 113.,   1.],\n",
       "       [143., 185., 176., 169., 107., 169., 148., 104., 177., 153.,   1.],\n",
       "       [179., 116., 121., 200., 159., 124., 180., 114., 186., 149.,   1.],\n",
       "       [150., 170., 142., 136., 165., 196., 170., 195., 101., 151.,   1.],\n",
       "       [137., 135., 149., 194., 104., 199., 143., 178., 122., 174.,   1.]])"
      ]
     },
     "execution_count": 10,
     "metadata": {},
     "output_type": "execute_result"
    }
   ],
   "source": [
    "np.append(n1,100)\n",
    "np.append(n2,np.ones((6,1)),axis=1)"
   ]
  },
  {
   "cell_type": "code",
   "execution_count": 3,
   "id": "506f8961",
   "metadata": {},
   "outputs": [
    {
     "data": {
      "text/plain": [
       "array([[ 118,  180,  105,  143,  159,  132,  102,  166,  142,  158, 1383,\n",
       "        1512, 1906, 1370, 1555, 1954, 1383, 1023, 1699, 1130],\n",
       "       [ 136,  112,  147,  183,  192,  101,  115,  200,  154,  113, 1377,\n",
       "        1098, 1574, 1931, 1734, 1123, 1963, 1594, 1942, 1739],\n",
       "       [ 143,  185,  176,  169,  107,  169,  148,  104,  177,  153, 1148,\n",
       "        1209, 1562, 1411, 1782, 1041, 1058, 1705, 1036, 1778],\n",
       "       [ 179,  116,  121,  200,  159,  124,  180,  114,  186,  149, 1086,\n",
       "        1043, 1872, 1011, 1770, 1307, 1080, 1032, 1182, 1128],\n",
       "       [ 150,  170,  142,  136,  165,  196,  170,  195,  101,  151, 1806,\n",
       "        1275, 1174, 1554, 1371, 1184, 1444, 1488, 1589, 1286],\n",
       "       [ 137,  135,  149,  194,  104,  199,  143,  178,  122,  174, 1280,\n",
       "        1637, 1770, 1515, 1094, 1226, 1875, 1269, 1880, 1296]],\n",
       "      dtype=int32)"
      ]
     },
     "execution_count": 3,
     "metadata": {},
     "output_type": "execute_result"
    }
   ],
   "source": [
    "n3=np.random.randint(1000,2001,60).reshape(6,10)\n",
    "np.concatenate((n2,n3),axis=1)"
   ]
  },
  {
   "cell_type": "code",
   "execution_count": 4,
   "id": "b332ac99",
   "metadata": {},
   "outputs": [
    {
     "name": "stdout",
     "output_type": "stream",
     "text": [
      "[1 2 3 4 5]\n"
     ]
    },
    {
     "data": {
      "text/plain": [
       "array([1, 2, 3, 4, 5, 6])"
      ]
     },
     "execution_count": 4,
     "metadata": {},
     "output_type": "execute_result"
    }
   ],
   "source": [
    "arr=np.array([1,2,2,3,4,4,5])\n",
    "arr2=np.array([[1,2,3,3],[4,5,6,6]])\n",
    "print(np.unique(arr))\n",
    "np.unique(arr2)"
   ]
  },
  {
   "cell_type": "code",
   "execution_count": null,
   "id": "b71dfdb2",
   "metadata": {},
   "outputs": [
    {
     "name": "stdout",
     "output_type": "stream",
     "text": [
      "(7,)\n"
     ]
    },
    {
     "data": {
      "text/plain": [
       "(7, 1)"
      ]
     },
     "execution_count": 26,
     "metadata": {},
     "output_type": "execute_result"
    }
   ],
   "source": [
    "result=np.expand_dims(arr,axis=1)\n",
    "print(arr.shape)\n",
    "result.shape"
   ]
  },
  {
   "cell_type": "code",
   "execution_count": 28,
   "id": "49429530",
   "metadata": {},
   "outputs": [
    {
     "data": {
      "text/plain": [
       "array([[118, 180,   1,   1,   1, 132, 102, 166, 142, 158],\n",
       "       [136, 112,   1,   1, 192,   1,   1, 200, 154,   1],\n",
       "       [  1,   1, 176,   1,   1,   1, 148, 104,   1,   1],\n",
       "       [  1, 116,   1, 200,   1, 124, 180, 114, 186,   1],\n",
       "       [150, 170, 142, 136,   1, 196, 170,   1,   1,   1],\n",
       "       [  1,   1,   1, 194, 104,   1,   1, 178, 122, 174]], dtype=int32)"
      ]
     },
     "execution_count": 28,
     "metadata": {},
     "output_type": "execute_result"
    }
   ],
   "source": [
    "np.where(n2%2==0,n2,1)"
   ]
  },
  {
   "cell_type": "code",
   "execution_count": 30,
   "id": "b8397053",
   "metadata": {},
   "outputs": [
    {
     "data": {
      "text/plain": [
       "array([7, 1, 9, 1, 6, 0])"
      ]
     },
     "execution_count": 30,
     "metadata": {},
     "output_type": "execute_result"
    }
   ],
   "source": [
    "np.argmax(n3,axis=1)"
   ]
  },
  {
   "cell_type": "code",
   "execution_count": null,
   "id": "cdb63eae",
   "metadata": {},
   "outputs": [
    {
     "data": {
      "text/plain": [
       "array([3, 2, 2, 0, 4, 0, 0, 3, 1, 1])"
      ]
     },
     "execution_count": 31,
     "metadata": {},
     "output_type": "execute_result"
    }
   ],
   "source": [
    "np.argmin(n3,axis=0) "
   ]
  },
  {
   "cell_type": "code",
   "execution_count": null,
   "id": "3d6910aa",
   "metadata": {},
   "outputs": [
    {
     "data": {
      "text/plain": [
       "array([ 1,  3,  5,  8, 12, 16, 21])"
      ]
     },
     "execution_count": 32,
     "metadata": {},
     "output_type": "execute_result"
    }
   ],
   "source": [
    "np.cumsum(arr)"
   ]
  },
  {
   "cell_type": "code",
   "execution_count": 34,
   "id": "8c29ae50",
   "metadata": {},
   "outputs": [
    {
     "data": {
      "text/plain": [
       "array([[1735, 1886, 1812, 1216, 1381, 1024, 1067, 1978, 1771, 1234],\n",
       "       [1716, 1998, 1291, 1726, 1701, 1709, 1727, 1555, 1032, 1011],\n",
       "       [1616, 1212, 1138, 1694, 1421, 1637, 1668, 1623, 1488, 1770],\n",
       "       [1539, 1979, 1217, 1663, 1821, 1307, 1174, 1148, 1949, 1541],\n",
       "       [1579, 1547, 1807, 1393, 1073, 1297, 1919, 1899, 1814, 1730],\n",
       "       [1946, 1876, 1771, 1799, 1777, 1394, 1539, 1429, 1199, 1423]],\n",
       "      dtype=int32)"
      ]
     },
     "execution_count": 34,
     "metadata": {},
     "output_type": "execute_result"
    }
   ],
   "source": [
    "n3"
   ]
  },
  {
   "cell_type": "code",
   "execution_count": 35,
   "id": "ec30bf04",
   "metadata": {},
   "outputs": [
    {
     "data": {
      "text/plain": [
       "array([[ 1735,  3621,  5433,  6649,  8030,  9054, 10121, 12099, 13870,\n",
       "        15104],\n",
       "       [ 1716,  3714,  5005,  6731,  8432, 10141, 11868, 13423, 14455,\n",
       "        15466],\n",
       "       [ 1616,  2828,  3966,  5660,  7081,  8718, 10386, 12009, 13497,\n",
       "        15267],\n",
       "       [ 1539,  3518,  4735,  6398,  8219,  9526, 10700, 11848, 13797,\n",
       "        15338],\n",
       "       [ 1579,  3126,  4933,  6326,  7399,  8696, 10615, 12514, 14328,\n",
       "        16058],\n",
       "       [ 1946,  3822,  5593,  7392,  9169, 10563, 12102, 13531, 14730,\n",
       "        16153]])"
      ]
     },
     "execution_count": 35,
     "metadata": {},
     "output_type": "execute_result"
    }
   ],
   "source": [
    "np.cumsum(n3,axis=1)"
   ]
  },
  {
   "cell_type": "code",
   "execution_count": 36,
   "id": "0d9c2be5",
   "metadata": {},
   "outputs": [
    {
     "data": {
      "text/plain": [
       "array([  1,   2,   4,  12,  48, 192, 960])"
      ]
     },
     "execution_count": 36,
     "metadata": {},
     "output_type": "execute_result"
    }
   ],
   "source": [
    "np.cumprod(arr)"
   ]
  },
  {
   "cell_type": "code",
   "execution_count": 39,
   "id": "734d0f84",
   "metadata": {},
   "outputs": [
    {
     "name": "stdout",
     "output_type": "stream",
     "text": [
      "[ 45  48  65  68  68  10  84  22  37  88  71  89  89  13  59  66  40  88\n",
      "  47  89  82  38  26  78  73  10  21  81  70  80  48  65  83 100  89  50\n",
      "  30  20  20  15  40  33  66  10  58  33  32  75  24  36  76  56  29  35\n",
      "   1   1  37  54   6  39]\n"
     ]
    },
    {
     "data": {
      "text/plain": [
       "np.float64(93.50999999999996)"
      ]
     },
     "execution_count": 39,
     "metadata": {},
     "output_type": "execute_result"
    }
   ],
   "source": [
    "print(n1)\n",
    "np.percentile(n1,99)"
   ]
  },
  {
   "cell_type": "code",
   "execution_count": 42,
   "id": "3d2df4a0",
   "metadata": {},
   "outputs": [
    {
     "name": "stdout",
     "output_type": "stream",
     "text": [
      "(60,)\n"
     ]
    },
    {
     "data": {
      "text/plain": [
       "(array([13, 18, 14, 15]), array([  0,  25,  50,  75, 100]))"
      ]
     },
     "execution_count": 42,
     "metadata": {},
     "output_type": "execute_result"
    }
   ],
   "source": [
    "print(n1.shape)\n",
    "np.histogram(n1,bins=[0,25,50,75,100])"
   ]
  },
  {
   "cell_type": "code",
   "execution_count": 6,
   "id": "420444f2",
   "metadata": {},
   "outputs": [
    {
     "data": {
      "text/plain": [
       "array([[ 1.00000000e+00,  2.54900032e-01, -1.92971222e-01,\n",
       "        -3.24582817e-01,  1.86162744e-01, -8.14360628e-03,\n",
       "        -3.96977415e-01, -2.34083804e-01,  4.00384573e-01,\n",
       "        -2.60775528e-01, -1.17376405e-01, -4.04457027e-01],\n",
       "       [ 2.54900032e-01,  1.00000000e+00, -5.94279822e-01,\n",
       "         1.64086596e-01, -1.24133689e-01, -1.28374681e-01,\n",
       "        -3.04060520e-01,  4.38270560e-01,  5.38255179e-01,\n",
       "         1.84202950e-01,  3.51259400e-01, -2.37149491e-01],\n",
       "       [-1.92971222e-01, -5.94279822e-01,  1.00000000e+00,\n",
       "         4.80887830e-02, -4.41827806e-01,  1.51191526e-01,\n",
       "         5.46653013e-01, -1.98016438e-01, -5.61726983e-01,\n",
       "        -9.48935061e-02, -2.53127569e-01,  6.17964346e-01],\n",
       "       [-3.24582817e-01,  1.64086596e-01,  4.80887830e-02,\n",
       "         1.00000000e+00, -6.27059552e-01, -1.81772601e-01,\n",
       "        -1.35184973e-01,  6.88594592e-01, -2.86047375e-01,\n",
       "        -2.63135713e-01,  6.89175163e-01,  2.26710316e-01],\n",
       "       [ 1.86162744e-01, -1.24133689e-01, -4.41827806e-01,\n",
       "        -6.27059552e-01,  1.00000000e+00,  3.61383832e-01,\n",
       "        -1.65301690e-01, -5.44575255e-01,  1.38986419e-01,\n",
       "        -6.78715918e-02, -3.73868941e-01, -5.24047760e-01],\n",
       "       [-8.14360628e-03, -1.28374681e-01,  1.51191526e-01,\n",
       "        -1.81772601e-01,  3.61383832e-01,  1.00000000e+00,\n",
       "        -1.37379369e-01, -1.51161800e-01,  2.75883243e-02,\n",
       "        -3.71850601e-01, -2.14453819e-01, -2.14476182e-01],\n",
       "       [-3.96977415e-01, -3.04060520e-01,  5.46653013e-01,\n",
       "        -1.35184973e-01, -1.65301690e-01, -1.37379369e-01,\n",
       "         1.00000000e+00, -3.04020948e-01, -4.35895417e-01,\n",
       "         5.99046841e-01, -4.17139373e-01,  2.59038423e-01],\n",
       "       [-2.34083804e-01,  4.38270560e-01, -1.98016438e-01,\n",
       "         6.88594592e-01, -5.44575255e-01, -1.51161800e-01,\n",
       "        -3.04020948e-01,  1.00000000e+00,  1.97424492e-01,\n",
       "        -1.43847177e-02,  3.32090918e-01,  3.52164505e-01],\n",
       "       [ 4.00384573e-01,  5.38255179e-01, -5.61726983e-01,\n",
       "        -2.86047375e-01,  1.38986419e-01,  2.75883243e-02,\n",
       "        -4.35895417e-01,  1.97424492e-01,  1.00000000e+00,\n",
       "         3.71916077e-01, -2.53678391e-01, -4.92457673e-01],\n",
       "       [-2.60775528e-01,  1.84202950e-01, -9.48935061e-02,\n",
       "        -2.63135713e-01, -6.78715918e-02, -3.71850601e-01,\n",
       "         5.99046841e-01, -1.43847177e-02,  3.71916077e-01,\n",
       "         1.00000000e+00, -4.82252512e-01, -8.41358179e-02],\n",
       "       [-1.17376405e-01,  3.51259400e-01, -2.53127569e-01,\n",
       "         6.89175163e-01, -3.73868941e-01, -2.14453819e-01,\n",
       "        -4.17139373e-01,  3.32090918e-01, -2.53678391e-01,\n",
       "        -4.82252512e-01,  1.00000000e+00, -4.74482092e-04],\n",
       "       [-4.04457027e-01, -2.37149491e-01,  6.17964346e-01,\n",
       "         2.26710316e-01, -5.24047760e-01, -2.14476182e-01,\n",
       "         2.59038423e-01,  3.52164505e-01, -4.92457673e-01,\n",
       "        -8.41358179e-02, -4.74482092e-04,  1.00000000e+00]])"
      ]
     },
     "execution_count": 6,
     "metadata": {},
     "output_type": "execute_result"
    }
   ],
   "source": [
    "np.corrcoef(n2,n3)  "
   ]
  },
  {
   "cell_type": "code",
   "execution_count": 8,
   "id": "453be114",
   "metadata": {},
   "outputs": [
    {
     "name": "stdout",
     "output_type": "stream",
     "text": [
      "[1 2 2 3 4 4 5]\n"
     ]
    },
    {
     "data": {
      "text/plain": [
       "array([False, False, False, False,  True,  True, False])"
      ]
     },
     "execution_count": 8,
     "metadata": {},
     "output_type": "execute_result"
    }
   ],
   "source": [
    "print(arr)\n",
    "np.isin(arr,4)"
   ]
  },
  {
   "cell_type": "code",
   "execution_count": 9,
   "id": "6678aa16",
   "metadata": {},
   "outputs": [
    {
     "name": "stdout",
     "output_type": "stream",
     "text": [
      "[1 2 2 3 4 4 5]\n"
     ]
    },
    {
     "data": {
      "text/plain": [
       "array([5, 4, 4, 3, 2, 2, 1])"
      ]
     },
     "execution_count": 9,
     "metadata": {},
     "output_type": "execute_result"
    }
   ],
   "source": [
    "print(arr)\n",
    "np.flip(arr)"
   ]
  },
  {
   "cell_type": "code",
   "execution_count": 11,
   "id": "f93614ff",
   "metadata": {},
   "outputs": [
    {
     "name": "stdout",
     "output_type": "stream",
     "text": [
      "[[118 180 105 143 159 132 102 166 142 158]\n",
      " [136 112 147 183 192 101 115 200 154 113]\n",
      " [143 185 176 169 107 169 148 104 177 153]\n",
      " [179 116 121 200 159 124 180 114 186 149]\n",
      " [150 170 142 136 165 196 170 195 101 151]\n",
      " [137 135 149 194 104 199 143 178 122 174]]\n"
     ]
    },
    {
     "data": {
      "text/plain": [
       "array([[174, 122, 178, 143, 199, 104, 194, 149, 135, 137],\n",
       "       [151, 101, 195, 170, 196, 165, 136, 142, 170, 150],\n",
       "       [149, 186, 114, 180, 124, 159, 200, 121, 116, 179],\n",
       "       [153, 177, 104, 148, 169, 107, 169, 176, 185, 143],\n",
       "       [113, 154, 200, 115, 101, 192, 183, 147, 112, 136],\n",
       "       [158, 142, 166, 102, 132, 159, 143, 105, 180, 118]], dtype=int32)"
      ]
     },
     "execution_count": 11,
     "metadata": {},
     "output_type": "execute_result"
    }
   ],
   "source": [
    "print(n2)\n",
    "np.flip(n2)"
   ]
  },
  {
   "cell_type": "code",
   "execution_count": null,
   "id": "910fe3bd",
   "metadata": {},
   "outputs": [
    {
     "data": {
      "text/plain": [
       "array([101, 500,   2,   3,   4,   4,   5])"
      ]
     },
     "execution_count": 6,
     "metadata": {},
     "output_type": "execute_result"
    }
   ],
   "source": [
    "np.put(arr,[0,1],[101,500])\n",
    "arr"
   ]
  },
  {
   "cell_type": "code",
   "execution_count": 11,
   "id": "8cff5405",
   "metadata": {},
   "outputs": [
    {
     "name": "stdout",
     "output_type": "stream",
     "text": [
      "[101 500   2   3   4   4   5]\n",
      "[500   2   3   4   4   5]\n",
      "[[118 180 105 143 159 132 102 166 142 158]\n",
      " [136 112 147 183 192 101 115 200 154 113]\n",
      " [143 185 176 169 107 169 148 104 177 153]\n",
      " [179 116 121 200 159 124 180 114 186 149]\n",
      " [150 170 142 136 165 196 170 195 101 151]\n",
      " [137 135 149 194 104 199 143 178 122 174]]\n"
     ]
    },
    {
     "data": {
      "text/plain": [
       "array([105, 143, 159, 166, 142, 158, 136, 112, 147, 183, 192, 101, 115,\n",
       "       200, 154, 113, 143, 185, 176, 169, 107, 169, 148, 104, 177, 153,\n",
       "       179, 116, 121, 200, 159, 124, 180, 114, 186, 149, 150, 170, 142,\n",
       "       136, 165, 196, 170, 195, 101, 151, 137, 135, 149, 194, 104, 199,\n",
       "       143, 178, 122, 174], dtype=int32)"
      ]
     },
     "execution_count": 11,
     "metadata": {},
     "output_type": "execute_result"
    }
   ],
   "source": [
    "print(arr)\n",
    "print(np.delete(arr,0))\n",
    "print(n2)\n",
    "np.delete(n2,[0,1,5,6])"
   ]
  },
  {
   "cell_type": "code",
   "execution_count": 12,
   "id": "26fd9110",
   "metadata": {},
   "outputs": [
    {
     "data": {
      "text/plain": [
       "array([  1,   2,   3,   4,   5,   6,  10,  13,  15,  20,  21,  22,  24,\n",
       "        26,  29,  30,  32,  33,  35,  36,  37,  38,  39,  40,  45,  47,\n",
       "        48,  50,  54,  56,  58,  59,  65,  66,  68,  70,  71,  73,  75,\n",
       "        76,  78,  80,  81,  82,  83,  84,  88,  89, 100, 101, 500])"
      ]
     },
     "execution_count": 12,
     "metadata": {},
     "output_type": "execute_result"
    }
   ],
   "source": [
    "np.union1d(n1,arr)"
   ]
  },
  {
   "cell_type": "code",
   "execution_count": 13,
   "id": "2ed018cf",
   "metadata": {},
   "outputs": [
    {
     "data": {
      "text/plain": [
       "array([], dtype=int64)"
      ]
     },
     "execution_count": 13,
     "metadata": {},
     "output_type": "execute_result"
    }
   ],
   "source": [
    "np.intersect1d(arr,n1)"
   ]
  },
  {
   "cell_type": "code",
   "execution_count": 14,
   "id": "acaef5eb",
   "metadata": {},
   "outputs": [
    {
     "data": {
      "text/plain": [
       "array([  1,   6,  10,  13,  15,  20,  21,  22,  24,  26,  29,  30,  32,\n",
       "        33,  35,  36,  37,  38,  39,  40,  45,  47,  48,  50,  54,  56,\n",
       "        58,  59,  65,  66,  68,  70,  71,  73,  75,  76,  78,  80,  81,\n",
       "        82,  83,  84,  88,  89, 100], dtype=int32)"
      ]
     },
     "execution_count": 14,
     "metadata": {},
     "output_type": "execute_result"
    }
   ],
   "source": [
    "np.setdiff1d(n1,arr)"
   ]
  },
  {
   "cell_type": "code",
   "execution_count": 15,
   "id": "56f76215",
   "metadata": {},
   "outputs": [
    {
     "data": {
      "text/plain": [
       "array([  1,   2,   3,   4,   5,   6,  10,  13,  15,  20,  21,  22,  24,\n",
       "        26,  29,  30,  32,  33,  35,  36,  37,  38,  39,  40,  45,  47,\n",
       "        48,  50,  54,  56,  58,  59,  65,  66,  68,  70,  71,  73,  75,\n",
       "        76,  78,  80,  81,  82,  83,  84,  88,  89, 100, 101, 500])"
      ]
     },
     "execution_count": 15,
     "metadata": {},
     "output_type": "execute_result"
    }
   ],
   "source": [
    "np.setxor1d(arr,n1)"
   ]
  },
  {
   "cell_type": "code",
   "execution_count": 23,
   "id": "fc2171b7",
   "metadata": {},
   "outputs": [
    {
     "name": "stdout",
     "output_type": "stream",
     "text": [
      "[101 500   2   3   4   4   5]\n"
     ]
    },
    {
     "data": {
      "text/plain": [
       "array([5, 5, 3, 3, 4, 4, 5])"
      ]
     },
     "execution_count": 23,
     "metadata": {},
     "output_type": "execute_result"
    }
   ],
   "source": [
    "print(arr)\n",
    "np.clip(arr,min=3,max=5)"
   ]
  },
  {
   "cell_type": "code",
   "execution_count": 2,
   "id": "81c165fd",
   "metadata": {},
   "outputs": [
    {
     "name": "stdout",
     "output_type": "stream",
     "text": [
      "12.0\n"
     ]
    }
   ],
   "source": [
    "x=9\n",
    "y=3.0\n",
    "print(x+y)"
   ]
  }
 ],
 "metadata": {
  "kernelspec": {
   "display_name": "Python 3",
   "language": "python",
   "name": "python3"
  },
  "language_info": {
   "codemirror_mode": {
    "name": "ipython",
    "version": 3
   },
   "file_extension": ".py",
   "mimetype": "text/x-python",
   "name": "python",
   "nbconvert_exporter": "python",
   "pygments_lexer": "ipython3",
   "version": "3.12.3"
  }
 },
 "nbformat": 4,
 "nbformat_minor": 5
}
