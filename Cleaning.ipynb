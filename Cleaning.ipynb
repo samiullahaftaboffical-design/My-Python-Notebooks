{
 "cells": [
  {
   "cell_type": "code",
   "execution_count": 5,
   "id": "fae18bb8",
   "metadata": {},
   "outputs": [],
   "source": [
    "import pandas as pd\n",
    "from sklearn.preprocessing import StandardScaler,MinMaxScaler\n",
    "from sklearn.model_selection import train_test_split\n",
    "from sklearn.preprocessing import OneHotEncoder"
   ]
  },
  {
   "cell_type": "markdown",
   "id": "75458ec7",
   "metadata": {},
   "source": [
    "Reading CSV FIle Using Pandas"
   ]
  },
  {
   "cell_type": "code",
   "execution_count": 6,
   "id": "758e6c6f",
   "metadata": {},
   "outputs": [
    {
     "data": {
      "text/html": [
       "<div>\n",
       "<style scoped>\n",
       "    .dataframe tbody tr th:only-of-type {\n",
       "        vertical-align: middle;\n",
       "    }\n",
       "\n",
       "    .dataframe tbody tr th {\n",
       "        vertical-align: top;\n",
       "    }\n",
       "\n",
       "    .dataframe thead th {\n",
       "        text-align: right;\n",
       "    }\n",
       "</style>\n",
       "<table border=\"1\" class=\"dataframe\">\n",
       "  <thead>\n",
       "    <tr style=\"text-align: right;\">\n",
       "      <th></th>\n",
       "      <th>Student_Name</th>\n",
       "      <th>Hours</th>\n",
       "      <th>Marks</th>\n",
       "      <th>Course</th>\n",
       "    </tr>\n",
       "  </thead>\n",
       "  <tbody>\n",
       "    <tr>\n",
       "      <th>0</th>\n",
       "      <td>Alice</td>\n",
       "      <td>2.0</td>\n",
       "      <td>50</td>\n",
       "      <td>Math</td>\n",
       "    </tr>\n",
       "    <tr>\n",
       "      <th>1</th>\n",
       "      <td>Bob</td>\n",
       "      <td>4.0</td>\n",
       "      <td>70</td>\n",
       "      <td>Science</td>\n",
       "    </tr>\n",
       "    <tr>\n",
       "      <th>2</th>\n",
       "      <td>Charlie</td>\n",
       "      <td>6.0</td>\n",
       "      <td>85</td>\n",
       "      <td>English</td>\n",
       "    </tr>\n",
       "    <tr>\n",
       "      <th>3</th>\n",
       "      <td>David</td>\n",
       "      <td>8.0</td>\n",
       "      <td>95</td>\n",
       "      <td>Math</td>\n",
       "    </tr>\n",
       "    <tr>\n",
       "      <th>4</th>\n",
       "      <td>Eve</td>\n",
       "      <td>3.0</td>\n",
       "      <td>NaN</td>\n",
       "      <td>Science</td>\n",
       "    </tr>\n",
       "    <tr>\n",
       "      <th>5</th>\n",
       "      <td>Frank</td>\n",
       "      <td>NaN</td>\n",
       "      <td>65</td>\n",
       "      <td>Math</td>\n",
       "    </tr>\n",
       "    <tr>\n",
       "      <th>6</th>\n",
       "      <td>Grace</td>\n",
       "      <td>5.0</td>\n",
       "      <td>fifty</td>\n",
       "      <td>English</td>\n",
       "    </tr>\n",
       "    <tr>\n",
       "      <th>7</th>\n",
       "      <td>Hank</td>\n",
       "      <td>7.0</td>\n",
       "      <td>90</td>\n",
       "      <td>Science</td>\n",
       "    </tr>\n",
       "    <tr>\n",
       "      <th>8</th>\n",
       "      <td>Ivy</td>\n",
       "      <td>4.5</td>\n",
       "      <td>72</td>\n",
       "      <td>Math</td>\n",
       "    </tr>\n",
       "    <tr>\n",
       "      <th>9</th>\n",
       "      <td>Jack</td>\n",
       "      <td>6.0</td>\n",
       "      <td>85</td>\n",
       "      <td>English</td>\n",
       "    </tr>\n",
       "  </tbody>\n",
       "</table>\n",
       "</div>"
      ],
      "text/plain": [
       "  Student_Name  Hours  Marks   Course\n",
       "0        Alice    2.0     50     Math\n",
       "1          Bob    4.0     70  Science\n",
       "2      Charlie    6.0     85  English\n",
       "3        David    8.0     95     Math\n",
       "4          Eve    3.0    NaN  Science\n",
       "5        Frank    NaN     65     Math\n",
       "6        Grace    5.0  fifty  English\n",
       "7         Hank    7.0     90  Science\n",
       "8          Ivy    4.5     72     Math\n",
       "9         Jack    6.0     85  English"
      ]
     },
     "execution_count": 6,
     "metadata": {},
     "output_type": "execute_result"
    }
   ],
   "source": [
    "df=pd.read_csv(r\"PD1.csv\")\n",
    "df.head(10)"
   ]
  },
  {
   "cell_type": "markdown",
   "id": "6ec34f1a",
   "metadata": {},
   "source": [
    "Checking Missing Values"
   ]
  },
  {
   "cell_type": "code",
   "execution_count": 3,
   "id": "0e778570",
   "metadata": {},
   "outputs": [
    {
     "data": {
      "text/plain": [
       "Student_Name    0\n",
       "Hours           7\n",
       "Marks           2\n",
       "Course          0\n",
       "dtype: int64"
      ]
     },
     "execution_count": 3,
     "metadata": {},
     "output_type": "execute_result"
    }
   ],
   "source": [
    "df.isnull().sum()"
   ]
  },
  {
   "cell_type": "markdown",
   "id": "9f7808da",
   "metadata": {},
   "source": [
    "Converting Object Type(string or categorical) into Numerical"
   ]
  },
  {
   "cell_type": "code",
   "execution_count": 8,
   "id": "208cfb41",
   "metadata": {},
   "outputs": [
    {
     "data": {
      "text/html": [
       "<div>\n",
       "<style scoped>\n",
       "    .dataframe tbody tr th:only-of-type {\n",
       "        vertical-align: middle;\n",
       "    }\n",
       "\n",
       "    .dataframe tbody tr th {\n",
       "        vertical-align: top;\n",
       "    }\n",
       "\n",
       "    .dataframe thead th {\n",
       "        text-align: right;\n",
       "    }\n",
       "</style>\n",
       "<table border=\"1\" class=\"dataframe\">\n",
       "  <thead>\n",
       "    <tr style=\"text-align: right;\">\n",
       "      <th></th>\n",
       "      <th>Student_Name</th>\n",
       "      <th>Hours</th>\n",
       "      <th>Marks</th>\n",
       "      <th>Course</th>\n",
       "    </tr>\n",
       "  </thead>\n",
       "  <tbody>\n",
       "    <tr>\n",
       "      <th>0</th>\n",
       "      <td>Alice</td>\n",
       "      <td>2.0</td>\n",
       "      <td>50.0</td>\n",
       "      <td>Math</td>\n",
       "    </tr>\n",
       "    <tr>\n",
       "      <th>1</th>\n",
       "      <td>Bob</td>\n",
       "      <td>4.0</td>\n",
       "      <td>70.0</td>\n",
       "      <td>Science</td>\n",
       "    </tr>\n",
       "    <tr>\n",
       "      <th>2</th>\n",
       "      <td>Charlie</td>\n",
       "      <td>6.0</td>\n",
       "      <td>85.0</td>\n",
       "      <td>English</td>\n",
       "    </tr>\n",
       "  </tbody>\n",
       "</table>\n",
       "</div>"
      ],
      "text/plain": [
       "  Student_Name  Hours  Marks   Course\n",
       "0        Alice    2.0   50.0     Math\n",
       "1          Bob    4.0   70.0  Science\n",
       "2      Charlie    6.0   85.0  English"
      ]
     },
     "execution_count": 8,
     "metadata": {},
     "output_type": "execute_result"
    }
   ],
   "source": [
    "df[\"Marks\"]=pd.to_numeric(df[\"Marks\"],errors=\"coerce\")\n",
    "df.head(3)"
   ]
  },
  {
   "cell_type": "markdown",
   "id": "665d775f",
   "metadata": {},
   "source": [
    "Filling Missing Values with Mean"
   ]
  },
  {
   "cell_type": "code",
   "execution_count": 9,
   "id": "8705c86a",
   "metadata": {},
   "outputs": [
    {
     "data": {
      "text/plain": [
       "Student_Name    0\n",
       "Hours           0\n",
       "Marks           0\n",
       "Course          0\n",
       "dtype: int64"
      ]
     },
     "execution_count": 9,
     "metadata": {},
     "output_type": "execute_result"
    }
   ],
   "source": [
    "df[\"Marks\"]=df[\"Marks\"].fillna(df[\"Marks\"].mean())\n",
    "df[\"Hours\"]=df[\"Hours\"].fillna(df[\"Hours\"].mean())\n",
    "df.isnull().sum()"
   ]
  },
  {
   "cell_type": "code",
   "execution_count": null,
   "id": "19c9a5b3",
   "metadata": {},
   "outputs": [],
   "source": [
    "df_Labe3=df"
   ]
  },
  {
   "cell_type": "markdown",
   "id": "0e302032",
   "metadata": {},
   "source": [
    "Encode All the categorical values into number "
   ]
  },
  {
   "cell_type": "code",
   "execution_count": null,
   "id": "00f8210a",
   "metadata": {},
   "outputs": [],
   "source": [
    "x1=OneHotEncoder()\n",
    "e=x1.fit_transform(df[[\"Student_Name\",\"Course\"]]).toarray()\n",
    "e_df=pd.DataFrame(e,columns=x1.get_feature_names_out([\"Student_Name\",\"Course\"]))\n",
    "df_Labe3=pd.concat([df_Labe3,e_df],axis=1)\n",
    "df=df_Labe3\n",
    "df.to_csv(\"PD2.csv\",index=False)"
   ]
  },
  {
   "cell_type": "markdown",
   "id": "e65bf0d4",
   "metadata": {},
   "source": [
    "Normalize all the numerical value to remove outliers"
   ]
  },
  {
   "cell_type": "code",
   "execution_count": null,
   "id": "f8d66f87",
   "metadata": {},
   "outputs": [],
   "source": [
    "x2=MinMaxScaler()\n",
    "df_Labe3=df\n",
    "df_Labe3[[\"Marks\",\"Hours\"]]=x2.fit_transform(df_Labe3[[\"Marks\",\"Hours\"]])\n",
    "df=df_Labe3\n",
    "df.to_csv(\"PD2.csv\",index=False)"
   ]
  },
  {
   "cell_type": "markdown",
   "id": "aec1fde1",
   "metadata": {},
   "source": [
    "Drop Unnecessary Columns After Encoding"
   ]
  },
  {
   "cell_type": "code",
   "execution_count": null,
   "id": "32efaa22",
   "metadata": {},
   "outputs": [],
   "source": [
    "df.drop(columns=[\"Student_Name\",\"Course\"],inplace=True)"
   ]
  },
  {
   "cell_type": "markdown",
   "id": "1357badb",
   "metadata": {},
   "source": [
    "Save the Clean Data in CSV File"
   ]
  },
  {
   "cell_type": "code",
   "execution_count": null,
   "id": "e22f2038",
   "metadata": {},
   "outputs": [],
   "source": [
    "df.to_csv(\"PD2.csv\",index=False)"
   ]
  },
  {
   "cell_type": "markdown",
   "id": "f77cf113",
   "metadata": {},
   "source": [
    "Spilting Data for Model Traning (y=mx + b)"
   ]
  },
  {
   "cell_type": "code",
   "execution_count": null,
   "id": "2a35fc10",
   "metadata": {},
   "outputs": [],
   "source": [
    "x=df[\"Hours\"]\n",
    "y=df[\"Marks\"]\n",
    "x_train,x_test,y_train,y_text=train_test_split(x,y,test_size=0.2,random_state=42)"
   ]
  }
 ],
 "metadata": {
  "kernelspec": {
   "display_name": "Python 3",
   "language": "python",
   "name": "python3"
  },
  "language_info": {
   "codemirror_mode": {
    "name": "ipython",
    "version": 3
   },
   "file_extension": ".py",
   "mimetype": "text/x-python",
   "name": "python",
   "nbconvert_exporter": "python",
   "pygments_lexer": "ipython3",
   "version": "3.12.3"
  }
 },
 "nbformat": 4,
 "nbformat_minor": 5
}
