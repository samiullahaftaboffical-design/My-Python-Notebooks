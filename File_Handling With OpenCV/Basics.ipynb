{
 "cells": [
  {
   "cell_type": "markdown",
   "id": "25857bd2",
   "metadata": {},
   "source": [
    "How to read image in OpenCV"
   ]
  },
  {
   "cell_type": "code",
   "execution_count": null,
   "id": "f81cbdb9",
   "metadata": {},
   "outputs": [],
   "source": [
    "import cv2\n",
    "image = cv2.imread(r\"headphone.jpg\")"
   ]
  },
  {
   "cell_type": "markdown",
   "id": "dd284485",
   "metadata": {},
   "source": [
    "\n",
    "How to Display Image in OpenCV"
   ]
  },
  {
   "cell_type": "code",
   "execution_count": 5,
   "id": "e714216d",
   "metadata": {},
   "outputs": [],
   "source": [
    "cv2.imshow(\"HEADPHONE\",image)\n",
    "cv2.waitKey(0)\n",
    "cv2.destroyAllWindows()"
   ]
  },
  {
   "cell_type": "markdown",
   "id": "942544e1",
   "metadata": {},
   "source": [
    "How to Save Image in OpenCV"
   ]
  },
  {
   "cell_type": "code",
   "execution_count": null,
   "id": "df5444a2",
   "metadata": {},
   "outputs": [],
   "source": [
    "cv2.imwrite(r\"F:\\Convertor\\Headphone_output.png\",image)"
   ]
  },
  {
   "cell_type": "code",
   "execution_count": null,
   "id": "914758ef",
   "metadata": {},
   "outputs": [],
   "source": [
    "image2=cv2.imread(r\"F:\\Convertor\\Headphone_output.png\")"
   ]
  },
  {
   "cell_type": "code",
   "execution_count": 16,
   "id": "f05a81df",
   "metadata": {},
   "outputs": [
    {
     "data": {
      "text/plain": [
       "array([[[  0, 207, 253],\n",
       "        [  0, 207, 253],\n",
       "        [  0, 207, 253],\n",
       "        ...,\n",
       "        [  0, 197, 253],\n",
       "        [  0, 197, 253],\n",
       "        [  0, 197, 253]],\n",
       "\n",
       "       [[  0, 207, 253],\n",
       "        [  0, 207, 253],\n",
       "        [  0, 207, 253],\n",
       "        ...,\n",
       "        [  0, 197, 253],\n",
       "        [  0, 197, 253],\n",
       "        [  0, 197, 253]],\n",
       "\n",
       "       [[  0, 207, 253],\n",
       "        [  0, 207, 253],\n",
       "        [  0, 207, 253],\n",
       "        ...,\n",
       "        [  0, 197, 253],\n",
       "        [  0, 197, 253],\n",
       "        [  0, 197, 253]],\n",
       "\n",
       "       ...,\n",
       "\n",
       "       [[  0, 172, 225],\n",
       "        [  0, 172, 225],\n",
       "        [  0, 173, 226],\n",
       "        ...,\n",
       "        [  0, 165, 218],\n",
       "        [  0, 165, 218],\n",
       "        [  0, 165, 218]],\n",
       "\n",
       "       [[  0, 171, 225],\n",
       "        [  0, 171, 225],\n",
       "        [  0, 171, 225],\n",
       "        ...,\n",
       "        [  0, 165, 218],\n",
       "        [  0, 165, 218],\n",
       "        [  0, 165, 218]],\n",
       "\n",
       "       [[  0, 171, 225],\n",
       "        [  0, 171, 225],\n",
       "        [  0, 171, 225],\n",
       "        ...,\n",
       "        [  0, 164, 217],\n",
       "        [  0, 164, 217],\n",
       "        [  0, 164, 217]]], shape=(183, 275, 3), dtype=uint8)"
      ]
     },
     "execution_count": 16,
     "metadata": {},
     "output_type": "execute_result"
    }
   ],
   "source": [
    "image"
   ]
  },
  {
   "cell_type": "code",
   "execution_count": 17,
   "id": "8003fa22",
   "metadata": {},
   "outputs": [
    {
     "data": {
      "text/plain": [
       "array([[[  0, 207, 253],\n",
       "        [  0, 207, 253],\n",
       "        [  0, 207, 253],\n",
       "        ...,\n",
       "        [  0, 197, 253],\n",
       "        [  0, 197, 253],\n",
       "        [  0, 197, 253]],\n",
       "\n",
       "       [[  0, 207, 253],\n",
       "        [  0, 207, 253],\n",
       "        [  0, 207, 253],\n",
       "        ...,\n",
       "        [  0, 197, 253],\n",
       "        [  0, 197, 253],\n",
       "        [  0, 197, 253]],\n",
       "\n",
       "       [[  0, 207, 253],\n",
       "        [  0, 207, 253],\n",
       "        [  0, 207, 253],\n",
       "        ...,\n",
       "        [  0, 197, 253],\n",
       "        [  0, 197, 253],\n",
       "        [  0, 197, 253]],\n",
       "\n",
       "       ...,\n",
       "\n",
       "       [[  0, 172, 225],\n",
       "        [  0, 172, 225],\n",
       "        [  0, 173, 226],\n",
       "        ...,\n",
       "        [  0, 165, 218],\n",
       "        [  0, 165, 218],\n",
       "        [  0, 165, 218]],\n",
       "\n",
       "       [[  0, 171, 225],\n",
       "        [  0, 171, 225],\n",
       "        [  0, 171, 225],\n",
       "        ...,\n",
       "        [  0, 165, 218],\n",
       "        [  0, 165, 218],\n",
       "        [  0, 165, 218]],\n",
       "\n",
       "       [[  0, 171, 225],\n",
       "        [  0, 171, 225],\n",
       "        [  0, 171, 225],\n",
       "        ...,\n",
       "        [  0, 164, 217],\n",
       "        [  0, 164, 217],\n",
       "        [  0, 164, 217]]], shape=(183, 275, 3), dtype=uint8)"
      ]
     },
     "execution_count": 17,
     "metadata": {},
     "output_type": "execute_result"
    }
   ],
   "source": [
    "image2"
   ]
  },
  {
   "cell_type": "markdown",
   "id": "d879ae55",
   "metadata": {},
   "source": [
    "Image Dimensions"
   ]
  },
  {
   "cell_type": "code",
   "execution_count": 20,
   "id": "bae7318d",
   "metadata": {},
   "outputs": [
    {
     "name": "stdout",
     "output_type": "stream",
     "text": [
      "(183, 275, 3)\n"
     ]
    },
    {
     "data": {
      "text/plain": [
       "(183, 275, 3)"
      ]
     },
     "execution_count": 20,
     "metadata": {},
     "output_type": "execute_result"
    }
   ],
   "source": [
    "print(image.shape)\n",
    "image2.shape"
   ]
  },
  {
   "cell_type": "markdown",
   "id": "073f2b09",
   "metadata": {},
   "source": [
    "GrayScale Image "
   ]
  },
  {
   "cell_type": "code",
   "execution_count": 21,
   "id": "b686022c",
   "metadata": {},
   "outputs": [],
   "source": [
    "gray=cv2.cvtColor(image,cv2.COLOR_BGR2GRAY)"
   ]
  },
  {
   "cell_type": "code",
   "execution_count": 24,
   "id": "6400331c",
   "metadata": {},
   "outputs": [],
   "source": [
    "cv2.imshow(\"Gray\",gray)\n",
    "cv2.waitKey(0)\n",
    "cv2.destroyAllWindows()"
   ]
  }
 ],
 "metadata": {
  "kernelspec": {
   "display_name": "Python 3",
   "language": "python",
   "name": "python3"
  },
  "language_info": {
   "codemirror_mode": {
    "name": "ipython",
    "version": 3
   },
   "file_extension": ".py",
   "mimetype": "text/x-python",
   "name": "python",
   "nbconvert_exporter": "python",
   "pygments_lexer": "ipython3",
   "version": "3.12.3"
  }
 },
 "nbformat": 4,
 "nbformat_minor": 5
}
