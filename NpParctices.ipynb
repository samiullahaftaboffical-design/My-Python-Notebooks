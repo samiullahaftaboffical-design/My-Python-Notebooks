{
 "cells": [
  {
   "cell_type": "code",
   "execution_count": 1,
   "id": "50d55983",
   "metadata": {},
   "outputs": [],
   "source": [
    "\n",
    "import numpy as np"
   ]
  },
  {
   "cell_type": "markdown",
   "id": "157e2278",
   "metadata": {},
   "source": [
    "Create a null vector of size 10 but the fifth value which is 1."
   ]
  },
  {
   "cell_type": "code",
   "execution_count": 14,
   "id": "217bdc60",
   "metadata": {},
   "outputs": [
    {
     "data": {
      "text/plain": [
       "array([0., 0., 0., 0., 0., 1., 0., 0., 0., 0.])"
      ]
     },
     "execution_count": 14,
     "metadata": {},
     "output_type": "execute_result"
    }
   ],
   "source": [
    "x=np.zeros(10)\n",
    "x[5]=1\n",
    "x\n"
   ]
  },
  {
   "cell_type": "markdown",
   "id": "23e0f207",
   "metadata": {},
   "source": [
    "Ask user to input two numbers a, b. Write a program to generate a random array of shape (a, b) and print the array and avg of the array."
   ]
  },
  {
   "cell_type": "code",
   "execution_count": 17,
   "id": "e719c1d9",
   "metadata": {},
   "outputs": [
    {
     "name": "stdout",
     "output_type": "stream",
     "text": [
      "[[0.75766983 0.76926986 0.82979582]\n",
      " [0.96449202 0.72632419 0.96549348]\n",
      " [0.10302022 0.26935365 0.07737973]]\n",
      "Average : 0.6069776450871097\n"
     ]
    }
   ],
   "source": [
    "rows=int(input(\"Enter the number of rows of the matrix : \"))\n",
    "columns=int(input(\"Enter the columns of the matrix : \"))\n",
    "x=np.random.random((rows,columns))\n",
    "print(x)\n",
    "print(f\"Average : {x.mean()}\")"
   ]
  },
  {
   "cell_type": "markdown",
   "id": "508b5fa5",
   "metadata": {},
   "source": [
    "Write a function to create a 2d array with 1 on the border and 0 inside. Take 2-D array shape as (a,b) as parameter to function."
   ]
  },
  {
   "cell_type": "code",
   "execution_count": 22,
   "id": "e2beb677",
   "metadata": {},
   "outputs": [
    {
     "data": {
      "text/plain": [
       "array([[1., 1., 1., 1.],\n",
       "       [1., 0., 0., 1.],\n",
       "       [1., 0., 0., 1.],\n",
       "       [1., 1., 1., 1.]])"
      ]
     },
     "execution_count": 22,
     "metadata": {},
     "output_type": "execute_result"
    }
   ],
   "source": [
    "def T2D(rows,columns):\n",
    "    x=np.ones((rows,columns))\n",
    "    x[1:-1,1:-1]=0\n",
    "    return x\n",
    "\n",
    "T2D(4,4)"
   ]
  },
  {
   "cell_type": "markdown",
   "id": "911d3837",
   "metadata": {},
   "source": [
    "Create a vector of size 10 with values ranging from 0 to 1, both excluded."
   ]
  },
  {
   "cell_type": "code",
   "execution_count": null,
   "id": "a3622b3c",
   "metadata": {},
   "outputs": [
    {
     "data": {
      "text/plain": [
       "array([0.11111111, 0.22222222, 0.33333333, 0.44444444, 0.55555556,\n",
       "       0.66666667, 0.77777778, 0.88888889])"
      ]
     },
     "execution_count": 24,
     "metadata": {},
     "output_type": "execute_result"
    }
   ],
   "source": [
    "np.linspace(0,1,10)[1:-1]"
   ]
  },
  {
   "cell_type": "markdown",
   "id": "7b6a8488",
   "metadata": {},
   "source": [
    " Create a 5x5 matrix with row values ranging from 0 to 4."
   ]
  },
  {
   "cell_type": "code",
   "execution_count": 31,
   "id": "216c9f53",
   "metadata": {},
   "outputs": [
    {
     "data": {
      "text/plain": [
       "array([[0, 1, 2, 3, 4],\n",
       "       [0, 1, 2, 3, 4],\n",
       "       [0, 1, 2, 3, 4],\n",
       "       [0, 1, 2, 3, 4],\n",
       "       [0, 1, 2, 3, 4]])"
      ]
     },
     "execution_count": 31,
     "metadata": {},
     "output_type": "execute_result"
    }
   ],
   "source": [
    "k=np.tile(np.arange(5),(5,1))\n",
    "k"
   ]
  },
  {
   "cell_type": "markdown",
   "id": "15d6e555",
   "metadata": {},
   "source": [
    " Consider a random integer (in range 1 to 100) vector with shape (10,2) representing coordinates, and coordinates of a point as array is given. Create an array of distance of each point in the random vectros from the given point. Distance array should be interger type."
   ]
  },
  {
   "cell_type": "code",
   "execution_count": 47,
   "id": "3dee2a9d",
   "metadata": {},
   "outputs": [
    {
     "name": "stdout",
     "output_type": "stream",
     "text": [
      "Distance : [np.float64(132.94359706281458), np.float64(79.17701686727027), np.float64(53.75872022286245), np.float64(92.65527507918802), np.float64(117.6860229593982), np.float64(41.617304093369626), np.float64(95.13148795220224), np.float64(62.96824596572466), np.float64(80.65358020571685), np.float64(91.59148432032315)]\n"
     ]
    }
   ],
   "source": [
    "x=np.random.randint(1,101,size=(10,2))\n",
    "given_point=np.array([2,3])\n",
    "l=[]\n",
    "for i in range(0,10):\n",
    "    r=((x[i][0]-given_point[0])**2 + (x[i][1]-given_point[1])**2)**0.5\n",
    "    l.append(r)\n",
    "\n",
    "print(\"Distance :\",l)"
   ]
  },
  {
   "cell_type": "markdown",
   "id": "c2186bc6",
   "metadata": {},
   "source": [
    "Consider a (6,7,8) shape array, what is the index (x,y,z) of the 100th element?1"
   ]
  },
  {
   "cell_type": "code",
   "execution_count": 51,
   "id": "068570b1",
   "metadata": {},
   "outputs": [
    {
     "name": "stdout",
     "output_type": "stream",
     "text": [
      "100\n"
     ]
    }
   ],
   "source": [
    "l=np.arange(336).reshape(6,7,8)\n",
    "n=0\n",
    "for i in np.nditer(l):\n",
    "    if i ==100:\n",
    "        print(n)\n",
    "    n+=1"
   ]
  },
  {
   "cell_type": "markdown",
   "id": "d2aacdb5",
   "metadata": {},
   "source": [
    "You are given a space separated list of numbers. Your task is to print a reversed NumPy array with the element type float.\n",
    "\n",
    "Input Format:\n",
    "\n",
    "A single line of input containing space separated numbers.\n",
    "\n",
    "Output Format:\n",
    "\n",
    "Print the reverse NumPy array with type float."
   ]
  },
  {
   "cell_type": "code",
   "execution_count": null,
   "id": "fecbb828",
   "metadata": {},
   "outputs": [
    {
     "name": "stdout",
     "output_type": "stream",
     "text": [
      "[  1   2   3   4  -8 -10]\n",
      "[-10.  -8.   4.   3.   2.   1.]\n"
     ]
    }
   ],
   "source": [
    "x=np.array([1,2,3,4,-8,-10])\n",
    "print(x,sep=\" \")\n",
    "x=x[::-1]\n",
    "x=x.astype(np.float64)\n",
    "print(x)"
   ]
  },
  {
   "cell_type": "markdown",
   "id": "b369be4a",
   "metadata": {},
   "source": [
    "Count the number of elements of a numpy array."
   ]
  },
  {
   "cell_type": "code",
   "execution_count": 4,
   "id": "183a26a3",
   "metadata": {},
   "outputs": [
    {
     "name": "stdout",
     "output_type": "stream",
     "text": [
      "6\n"
     ]
    },
    {
     "data": {
      "text/plain": [
       "6"
      ]
     },
     "execution_count": 4,
     "metadata": {},
     "output_type": "execute_result"
    }
   ],
   "source": [
    "def count(n):\n",
    "    c=0\n",
    "    for i in np.nditer(n):\n",
    "        c+=1\n",
    "    return c\n",
    "\n",
    "n=np.array([1,2,3,4,5,6])\n",
    "print(count(n))\n",
    "n.size\n",
    "\n"
   ]
  },
  {
   "cell_type": "markdown",
   "id": "f1af4d23",
   "metadata": {},
   "source": [
    "Create a Python function to calculate the Softmax of the given numpy 1D array. The function only accepts the numpy 1D array, otherwise raise error."
   ]
  },
  {
   "cell_type": "code",
   "execution_count": 11,
   "id": "be89d00a",
   "metadata": {},
   "outputs": [
    {
     "data": {
      "text/plain": [
       "array([4.57181033e-26, 1.16249922e-20, 7.73872594e-05, 2.60358426e-05,\n",
       "       1.39571531e-10, 9.99896577e-01])"
      ]
     },
     "execution_count": 11,
     "metadata": {},
     "output_type": "execute_result"
    }
   ],
   "source": [
    "def softmax(n):\n",
    "    e=2.77\n",
    "    if n.ndim==1:\n",
    "        l=np.exp(n)\n",
    "        x=np.sum(l)\n",
    "        return l/x\n",
    "    else:\n",
    "        return \"This Not 1D array\"\n",
    "\n",
    "n=np.array([33.17344305 ,45.61961654 ,82.05405781 ,80.9647098  ,68.82830233 ,91.52064278])\n",
    "softmax(n)\n"
   ]
  },
  {
   "cell_type": "markdown",
   "id": "41ea83f2",
   "metadata": {},
   "source": [
    "Write a python function that accepts infinite number of numpy arrays and do the vertical stack to them. Then return that new array as result. The function only accepts the numpy array, otherwise raise error."
   ]
  },
  {
   "cell_type": "code",
   "execution_count": null,
   "id": "e8e6f81b",
   "metadata": {},
   "outputs": [
    {
     "data": {
      "text/plain": [
       "array([[ 0,  1,  2,  3],\n",
       "       [ 4,  5,  6,  7],\n",
       "       [ 8,  9, 10, 11],\n",
       "       [12, 13, 14, 15],\n",
       "       [16, 17, 18, 19],\n",
       "       [20, 21, 22, 23]])"
      ]
     },
     "execution_count": 18,
     "metadata": {},
     "output_type": "execute_result"
    }
   ],
   "source": [
    "def VS(x,y):\n",
    "    if isinstance(x,np.ndarray) and isinstance(y,np.ndarray):\n",
    "        return np.vstack((x,y))\n",
    "    else:\n",
    "        return \"These arrays are not np arrays\"\n",
    "    \n",
    "x=np.arange(12).reshape(3,4)\n",
    "y=np.arange(12,24).reshape(3,4)\n",
    "VS(x,y)\n"
   ]
  },
  {
   "cell_type": "markdown",
   "id": "fb49cade",
   "metadata": {},
   "source": [
    "Create a python function named date_array that accepts two dates as string format and returns a numpy array of dates between those 2 dates. The function only accept 2 strings, otherwise raise error. The date format should be like this only: 2022-12-6. The end date should be included and for simplicity, choose dates from a same year."
   ]
  },
  {
   "cell_type": "code",
   "execution_count": 3,
   "id": "96a2923c",
   "metadata": {},
   "outputs": [
    {
     "data": {
      "text/plain": [
       "array(['2022-12-07', '2022-12-08', '2022-12-09', '2022-12-10',\n",
       "       '2022-12-11'], dtype='<U10')"
      ]
     },
     "execution_count": 3,
     "metadata": {},
     "output_type": "execute_result"
    }
   ],
   "source": [
    "from datetime import datetime,timedelta\n",
    "def date_array(s,e):\n",
    "    l=[]\n",
    "    s=datetime.strptime(s,\"%Y-%m-%d\")\n",
    "    e=datetime.strptime(e,\"%Y-%m-%d\")\n",
    "    c=s\n",
    "    while c<=e:\n",
    "        l.append(c.strftime(\"%Y-%m-%d\"))\n",
    "        c+=timedelta(days=1)\n",
    "    x=np.array(l)\n",
    "    return x[1:-1]\n",
    "\n",
    "s=\"2022-12-6\"\n",
    "e=\"2022-12-12\"\n",
    "date_array(s,e)"
   ]
  },
  {
   "cell_type": "markdown",
   "id": "2cd69752",
   "metadata": {},
   "source": [
    "Subtract the mean of each row from a matrix."
   ]
  },
  {
   "cell_type": "code",
   "execution_count": 8,
   "id": "f49c4dec",
   "metadata": {},
   "outputs": [
    {
     "data": {
      "text/plain": [
       "array([[-1.5, -0.5,  0.5,  1.5],\n",
       "       [-1.5, -0.5,  0.5,  1.5],\n",
       "       [-1.5, -0.5,  0.5,  1.5]])"
      ]
     },
     "execution_count": 8,
     "metadata": {},
     "output_type": "execute_result"
    }
   ],
   "source": [
    "x=np.arange(12).reshape(3,4)\n",
    "mean=x.mean(axis=1,keepdims=True)\n",
    "x-mean"
   ]
  },
  {
   "cell_type": "markdown",
   "id": "ec571189",
   "metadata": {},
   "source": [
    "Swap column-1 of array with column-2 in the array."
   ]
  },
  {
   "cell_type": "code",
   "execution_count": 12,
   "id": "6ac0df1c",
   "metadata": {},
   "outputs": [
    {
     "data": {
      "text/plain": [
       "array([[12, 14, 13, 15],\n",
       "       [16, 18, 17, 19],\n",
       "       [20, 22, 21, 23]])"
      ]
     },
     "execution_count": 12,
     "metadata": {},
     "output_type": "execute_result"
    }
   ],
   "source": [
    "x=np.arange(12,24).reshape(3,4)\n",
    "x[:,[1,2]]=x[:,[2,1]]\n",
    "x"
   ]
  },
  {
   "cell_type": "markdown",
   "id": "ab1652cf",
   "metadata": {},
   "source": [
    "Replace odd elements in arrays with -1."
   ]
  },
  {
   "cell_type": "code",
   "execution_count": null,
   "id": "9223d10f",
   "metadata": {},
   "outputs": [
    {
     "name": "stdout",
     "output_type": "stream",
     "text": [
      "[[16 17 18 19]\n",
      " [20 21 22 23]\n",
      " [24 25 26 27]\n",
      " [28 29 30 31]]\n"
     ]
    },
    {
     "data": {
      "text/plain": [
       "array([[16, -1, 18, -1],\n",
       "       [20, -1, 22, -1],\n",
       "       [24, -1, 26, -1],\n",
       "       [28, -1, 30, -1]])"
      ]
     },
     "execution_count": 19,
     "metadata": {},
     "output_type": "execute_result"
    }
   ],
   "source": [
    "x=np.arange(16,32).reshape(4,4)\n",
    "print(x)\n",
    "for index,value in np.ndenumerate(x):\n",
    "    if value%2==1:\n",
    "        x[index]=-1\n",
    "x\n"
   ]
  },
  {
   "cell_type": "markdown",
   "id": "f53d72cd",
   "metadata": {},
   "source": [
    "Given two arrays of same shape make an array of max out of two arrays. (Numpy way)"
   ]
  },
  {
   "cell_type": "code",
   "execution_count": 25,
   "id": "33b5df0b",
   "metadata": {},
   "outputs": [
    {
     "data": {
      "text/plain": [
       "array([[16, 17, 18, 19],\n",
       "       [20, 21, 22, 23],\n",
       "       [24, 25, 26, 27],\n",
       "       [28, 29, 30, 31]])"
      ]
     },
     "execution_count": 25,
     "metadata": {},
     "output_type": "execute_result"
    }
   ],
   "source": [
    "a1=np.arange(16).reshape(4,4)\n",
    "a2=np.arange(16,32).reshape(4,4)\n",
    "max=np.maximum(a1,a2)\n",
    "max"
   ]
  },
  {
   "cell_type": "markdown",
   "id": "86b2bf34",
   "metadata": {},
   "source": [
    "Q-18 Answer below asked questions on given array:\n",
    "Fetch Every alternate column of the array\n",
    "Normalise the given array"
   ]
  },
  {
   "cell_type": "code",
   "execution_count": 30,
   "id": "b55ce1c6",
   "metadata": {},
   "outputs": [
    {
     "name": "stdout",
     "output_type": "stream",
     "text": [
      "[[9329 6230 1784]\n",
      " [1060 7624 7498]\n",
      " [ 140 6130 3978]\n",
      " [1817 4634 9822]\n",
      " [3213 4664  534]\n",
      " [ 650 9050 8675]\n",
      " [5125 2669 3234]\n",
      " [7758 7834 3005]]\n"
     ]
    }
   ],
   "source": [
    "def normalization(x):\n",
    "    return (x-np.min(x)) / (np.max(x) - np.min(x))\n",
    "\n",
    "arr1=np.random.randint(low=1, high=10000, size=40).reshape(8,5)\n",
    "normalization(arr1)\n",
    "print(arr1[:,::2])"
   ]
  },
  {
   "cell_type": "markdown",
   "id": "04e194a9",
   "metadata": {},
   "source": [
    "Q-19: Write a function which will accept 2 arguments.\n",
    "First: A 1D numpy array arr\n",
    "\n",
    "Second: An integer n {Please make sure n<=len(arr)}\n",
    "\n",
    "Output: The output should be the nth largest item out of the array"
   ]
  },
  {
   "cell_type": "code",
   "execution_count": 42,
   "id": "5767dd9c",
   "metadata": {},
   "outputs": [
    {
     "name": "stdout",
     "output_type": "stream",
     "text": [
      "[40 41 42 43 44 45 46 47 48 49 50 51]\n"
     ]
    },
    {
     "data": {
      "text/plain": [
       "np.int64(47)"
      ]
     },
     "execution_count": 42,
     "metadata": {},
     "output_type": "execute_result"
    }
   ],
   "source": [
    "def fun(x,i):\n",
    "    if i<=x.size:\n",
    "        return x[i]\n",
    "    else:\n",
    "        return \"Index Out Of The Range \"\n",
    "\n",
    "arr2=np.arange(40,52)\n",
    "print(arr2)\n",
    "fun(arr2,7)\n"
   ]
  },
  {
   "cell_type": "markdown",
   "id": "571c5617",
   "metadata": {},
   "source": [
    "Create the following pattern without hardcoding. Use only numpy functions and the below input array a.\n",
    "# Input: a = np.array([1,2,3])\n",
    "# Output: array([1, 1, 1, 2, 2, 2, 3, 3, 3, 1, 2, 3, 1, 2, 3, 1, 2, 3])"
   ]
  },
  {
   "cell_type": "code",
   "execution_count": 44,
   "id": "f6ceef4c",
   "metadata": {},
   "outputs": [
    {
     "data": {
      "text/plain": [
       "array([1, 1, 1, 2, 2, 2, 3, 3, 3, 1, 2, 3, 1, 2, 3, 1, 2, 3])"
      ]
     },
     "execution_count": 44,
     "metadata": {},
     "output_type": "execute_result"
    }
   ],
   "source": [
    "a=np.array([1,2,3])\n",
    "p1=np.repeat(a,3)\n",
    "p2=np.tile(a,3)\n",
    "result=np.concatenate((p1,p2))\n",
    "result"
   ]
  },
  {
   "cell_type": "markdown",
   "id": "f17288d6",
   "metadata": {},
   "source": [
    "You're given data for 6 students across 5 subjects. Perform the following tasks using NumPy only.\n",
    "🔧 Tasks to Perform\n",
    "🔹 Basic Array Info\n",
    "Print the array of marks.\n",
    "\n",
    "Display the shape, size, and data type of the array.\n",
    "\n",
    "🔹 Statistical Analysis\n",
    "Find the total, average, minimum, and maximum marks for each student.\n",
    "\n",
    "Find the average marks per subject.\n",
    "\n",
    "Identify which student scored the highest overall.\n",
    "\n",
    "🔹 Normalization\n",
    "Normalize the marks using min-max normalization for each subject:\n",
    "\n",
    "normalized\n",
    "=\n",
    "𝑥\n",
    "−\n",
    "min\n",
    "⁡\n",
    "(\n",
    "𝑥\n",
    ")\n",
    "max\n",
    "⁡\n",
    "(\n",
    "𝑥\n",
    ")\n",
    "−\n",
    "min\n",
    "⁡\n",
    "(\n",
    "𝑥\n",
    ")\n",
    "normalized= \n",
    "max(x)−min(x)\n",
    "x−min(x)\n",
    "​\n",
    " \n",
    "🔹 Advanced Operations\n",
    "Replace any marks < 50 with 50 (pass criteria).\n",
    "\n",
    "Apply the floor, ceil, and round functions on the array and print all versions.\n",
    "\n",
    "🔹 Indexing and Slicing\n",
    "Extract marks of the 3rd and 4th students.\n",
    "\n",
    "Get marks for only the first 3 subjects across all students.\n",
    "\n",
    "🔹 Stacking and Splitting\n",
    "Create a new array with the student IDs (1 to 6) as a column, and horizontally stack it with the original marks array.\n",
    "\n",
    "Split the resulting array into two arrays: one with student IDs and one with only marks.\n",
    "\n",
    "🔹 Iteration and Flattening\n",
    "Iterate over the marks of each student and print them.\n",
    "\n",
    "Flatten the original marks array using ravel() and calculate mean and std deviation."
   ]
  },
  {
   "cell_type": "code",
   "execution_count": 7,
   "id": "800d4a31",
   "metadata": {},
   "outputs": [
    {
     "name": "stdout",
     "output_type": "stream",
     "text": [
      "(6, 5)\n",
      "30\n",
      "int32\n",
      "Total : 2063, Average :68.76666666666667, Minimum :45 , Maximim : 98\n"
     ]
    },
    {
     "data": {
      "text/plain": [
       "array([[0.83018868, 0.88679245, 1.        , 0.        , 0.05660377],\n",
       "       [0.05660377, 0.73584906, 0.16981132, 0.35849057, 0.39622642],\n",
       "       [0.94339623, 0.67924528, 0.43396226, 0.11320755, 0.45283019],\n",
       "       [0.45283019, 0.22641509, 0.01886792, 0.71698113, 0.73584906],\n",
       "       [0.43396226, 0.86792453, 0.45283019, 0.32075472, 0.69811321],\n",
       "       [0.47169811, 0.24528302, 0.1509434 , 0.16981132, 0.37735849]])"
      ]
     },
     "execution_count": 7,
     "metadata": {},
     "output_type": "execute_result"
    }
   ],
   "source": [
    "np.random.seed(0)\n",
    "marks=np.random.randint(45,101,size=(6,5))\n",
    "# Display the shape, size, and data type of the array.\n",
    "print(marks.shape)\n",
    "print(marks.size)\n",
    "print(marks.dtype)\n",
    "\n",
    "# Find the total, average, minimum, and maximum marks for each student.\n",
    "print(f\"Total : {np.sum(marks)}, Average :{np.mean(marks)}, Minimum :{np.min(marks)} , Maximim : {np.max(marks)}\")\n",
    "\n",
    "#Normalize the marks using min-max normalization for each subject:\n",
    "def Normalize(x):\n",
    "    return (x - np.min(x)) / (np.max(x) - np.min(x))\n",
    "\n",
    "Normalize(marks)\n",
    "\n"
   ]
  },
  {
   "cell_type": "code",
   "execution_count": 13,
   "id": "d44ba6b3",
   "metadata": {},
   "outputs": [
    {
     "name": "stdout",
     "output_type": "stream",
     "text": [
      "[[89 92 98 50 50]\n",
      " [50 84 54 64 66]\n",
      " [95 81 68 51 69]\n",
      " [69 57 50 83 84]\n",
      " [68 91 69 62 82]\n",
      " [70 58 53 54 65]]\n",
      "[[89 92 98 50 50]\n",
      " [50 84 54 64 66]\n",
      " [95 81 68 51 69]\n",
      " [69 57 50 83 84]\n",
      " [68 91 69 62 82]\n",
      " [70 58 53 54 65]]\n",
      "[[89 92 98 50 50]\n",
      " [50 84 54 64 66]\n",
      " [95 81 68 51 69]\n",
      " [69 57 50 83 84]\n",
      " [68 91 69 62 82]\n",
      " [70 58 53 54 65]]\n"
     ]
    }
   ],
   "source": [
    "# Replace any marks < 50 with 50 (pass criteria).\n",
    "for i in range(marks.shape[0]):\n",
    "    for k in range(marks.shape[1]):\n",
    "        if marks[i,k]<50:\n",
    "            marks[i,k]=50\n",
    "# Alternative \n",
    "marks[marks<50]=50\n",
    "# Apply the floor, ceil, and round functions on the array and print all versions.\n",
    "print(np.round(marks))\n",
    "print(np.ceil(marks))\n",
    "print(np.floor(marks))"
   ]
  },
  {
   "cell_type": "code",
   "execution_count": null,
   "id": "e1dd12dd",
   "metadata": {},
   "outputs": [
    {
     "data": {
      "text/plain": [
       "array([[89, 92, 98],\n",
       "       [50, 84, 54],\n",
       "       [95, 81, 68],\n",
       "       [69, 57, 50],\n",
       "       [68, 91, 69],\n",
       "       [70, 58, 53]], dtype=int32)"
      ]
     },
     "execution_count": 19,
     "metadata": {},
     "output_type": "execute_result"
    }
   ],
   "source": [
    "# Extract marks of the 3rd and 4th students\n",
    "# marks[:1,3:5]\n",
    "#Get marks for only the first 3 subjects across all students.\n",
    "marks[:,0:3]\n"
   ]
  },
  {
   "cell_type": "markdown",
   "id": "09cbdbf5",
   "metadata": {},
   "source": [
    " Create a Scoreboard with Ranking Logic\n",
    "Generate marks for 10 students in 4 subjects. Then:\n",
    "Calculate total marks for each student.\n",
    "Sort students by total marks in descending order.\n",
    "Assign ranks starting from 1.\n",
    "Replace ranks for students having equal total marks with the same rank."
   ]
  },
  {
   "cell_type": "code",
   "execution_count": 26,
   "id": "ac5b4e74",
   "metadata": {},
   "outputs": [
    {
     "name": "stdout",
     "output_type": "stream",
     "text": [
      "[[ 45  48  65  68]\n",
      " [ 68  10  84  22]\n",
      " [ 37  88  71  89]\n",
      " [ 89  13  59  66]\n",
      " [ 40  88  47  89]\n",
      " [ 82  38  26  78]\n",
      " [ 73  10  21  81]\n",
      " [ 70  80  48  65]\n",
      " [ 83 100  89  50]\n",
      " [ 30  20  20  15]]\n"
     ]
    },
    {
     "data": {
      "text/plain": [
       "array([226, 184, 285, 227, 264, 224, 185, 263, 322,  85])"
      ]
     },
     "execution_count": 26,
     "metadata": {},
     "output_type": "execute_result"
    }
   ],
   "source": [
    "np.random.seed(0)\n",
    "score=np.random.randint(1,101,size=(10,4))\n",
    "Total=np.sum(score,axis=1)\n",
    "print(score)\n",
    "Total"
   ]
  },
  {
   "cell_type": "code",
   "execution_count": null,
   "id": "4f0a2d20",
   "metadata": {},
   "outputs": [
    {
     "data": {
      "text/plain": [
       "array([[ 68,  65,  48,  45],\n",
       "       [ 22,  84,  10,  68],\n",
       "       [ 89,  71,  88,  37],\n",
       "       [ 66,  59,  13,  89],\n",
       "       [ 89,  47,  88,  40],\n",
       "       [ 78,  26,  38,  82],\n",
       "       [ 81,  21,  10,  73],\n",
       "       [ 65,  48,  80,  70],\n",
       "       [ 50,  89, 100,  83],\n",
       "       [ 15,  20,  20,  30]], dtype=int32)"
      ]
     },
     "execution_count": 30,
     "metadata": {},
     "output_type": "execute_result"
    }
   ],
   "source": [
    "score[:,::-1]"
   ]
  },
  {
   "cell_type": "markdown",
   "id": "7c662f07",
   "metadata": {},
   "source": [
    "Replace Outliers with Median\n",
    "Given a random array of exam scores, replace all values more than 2 standard deviations from the mean with the median score."
   ]
  },
  {
   "cell_type": "code",
   "execution_count": null,
   "id": "668cea03",
   "metadata": {},
   "outputs": [
    {
     "data": {
      "text/plain": [
       "array([[56, 56, 56, 56],\n",
       "       [56, 56, 56, 56],\n",
       "       [56, 56, 56, 56],\n",
       "       [56, 56, 56, 56],\n",
       "       [56, 56, 56, 56],\n",
       "       [56, 56, 56, 56],\n",
       "       [56, 56, 56, 56],\n",
       "       [56, 56, 56, 56],\n",
       "       [56, 56, 56, 56],\n",
       "       [56, 56, 56, 56]], dtype=int32)"
      ]
     },
     "execution_count": 36,
     "metadata": {},
     "output_type": "execute_result"
    }
   ],
   "source": [
    "mean=np.mean(score)\n",
    "median=np.median(score)\n",
    "sd=np.std(score)\n",
    "score[np.abs(score-mean)>2*sd]=median\n",
    "score"
   ]
  },
  {
   "cell_type": "markdown",
   "id": "46e44998",
   "metadata": {},
   "source": [
    "Create a 5x5 matrix where diagonal values go from 1 to 5, and all other values are 0."
   ]
  },
  {
   "cell_type": "code",
   "execution_count": null,
   "id": "648eb372",
   "metadata": {},
   "outputs": [
    {
     "data": {
      "text/plain": [
       "array([[1., 0., 0., 0., 0.],\n",
       "       [0., 2., 0., 0., 0.],\n",
       "       [0., 0., 3., 0., 0.],\n",
       "       [0., 0., 0., 4., 0.],\n",
       "       [0., 0., 0., 0., 5.]])"
      ]
     },
     "execution_count": 39,
     "metadata": {},
     "output_type": "execute_result"
    }
   ],
   "source": [
    "Diagonal=np.zeros((5,5))\n",
    "for i in range(5):\n",
    "    Diagonal[i,i]=i+1\n",
    "Diagonal"
   ]
  },
  {
   "cell_type": "markdown",
   "id": "ae282b26",
   "metadata": {},
   "source": [
    "🔁 7. Generate a Custom Matrix Pattern\n",
    "Create a 6x6 matrix where:\n",
    "\n",
    "Border values are 1\n",
    "\n",
    "Inside values are 0\n",
    "\n",
    "The diagonal from top-left to bottom-right is filled with 2"
   ]
  },
  {
   "cell_type": "code",
   "execution_count": null,
   "id": "7c17252b",
   "metadata": {},
   "outputs": [
    {
     "data": {
      "text/plain": [
       "array([[1., 1., 1., 1., 1., 1.],\n",
       "       [1., 2., 1., 1., 1., 1.],\n",
       "       [1., 1., 2., 1., 1., 1.],\n",
       "       [1., 1., 1., 2., 1., 1.],\n",
       "       [1., 1., 1., 1., 2., 1.],\n",
       "       [1., 1., 1., 1., 1., 1.]])"
      ]
     },
     "execution_count": 41,
     "metadata": {},
     "output_type": "execute_result"
    }
   ],
   "source": [
    "Custom=np.ones((6,6))\n",
    "Custom\n",
    "for i in range(1,5):\n",
    "    Custom[i,i]=2\n"
   ]
  },
  {
   "cell_type": "markdown",
   "id": "de3d59f8",
   "metadata": {},
   "source": [
    "Create a 3×3 matrix and rotate it 90 degrees clockwise and counterclockwise using NumPy (no built-in rotate function allowed)."
   ]
  },
  {
   "cell_type": "code",
   "execution_count": 15,
   "id": "a0dee921",
   "metadata": {},
   "outputs": [
    {
     "name": "stdout",
     "output_type": "stream",
     "text": [
      "[[1 2 3]\n",
      " [4 5 6]\n",
      " [7 8 9]]\n",
      "[[7 4 1]\n",
      " [8 5 2]\n",
      " [9 6 3]]\n"
     ]
    },
    {
     "data": {
      "text/plain": [
       "array([[3, 6, 9],\n",
       "       [2, 5, 8],\n",
       "       [1, 4, 7]])"
      ]
     },
     "execution_count": 15,
     "metadata": {},
     "output_type": "execute_result"
    }
   ],
   "source": [
    "m=np.arange(1,10).reshape(3,3)\n",
    "clockwise=np.transpose(m)\n",
    "print(m)\n",
    "print(clockwise[:,::-1])\n",
    "\n",
    "counterclockwise=np.transpose(m)\n",
    "counterclockwise[::-1]"
   ]
  },
  {
   "cell_type": "code",
   "execution_count": 19,
   "id": "17ba6746",
   "metadata": {},
   "outputs": [
    {
     "name": "stdout",
     "output_type": "stream",
     "text": [
      "[[1 4 7]\n",
      " [2 5 8]\n",
      " [3 6 9]]\n"
     ]
    },
    {
     "data": {
      "text/plain": [
       "array([[2, 5, 8],\n",
       "       [3, 6, 9]])"
      ]
     },
     "execution_count": 19,
     "metadata": {},
     "output_type": "execute_result"
    }
   ],
   "source": [
    "print(counterclockwise)\n",
    "counterclockwise[1:3]"
   ]
  },
  {
   "cell_type": "markdown",
   "id": "c13dcc2a",
   "metadata": {},
   "source": [
    "Replace all even numbers with -1.\n",
    "\n",
    "Find positions of all numbers > 5 and < 8."
   ]
  },
  {
   "cell_type": "code",
   "execution_count": 25,
   "id": "e557b7d1",
   "metadata": {},
   "outputs": [
    {
     "name": "stdout",
     "output_type": "stream",
     "text": [
      "[ 1 -1 -1  7 -1  9  3 -1]\n",
      "Position :3\n"
     ]
    }
   ],
   "source": [
    "arr = np.array([1, 4, 6, 7, 2, 9, 3, 8])\n",
    "arr[arr %2==0]=-1\n",
    "arr\n",
    "position=0\n",
    "print(arr)\n",
    "for i,val in enumerate(arr):\n",
    "    if val>5 and val<8:\n",
    "        print(f\"Position :{i}\")"
   ]
  },
  {
   "cell_type": "markdown",
   "id": "269c45d9",
   "metadata": {},
   "source": [
    "Simulate 100 rolls of two dice using np.random.randint():\n",
    "\n",
    "Count how many times the sum is exactly 7.\n",
    "\n",
    "Find the most frequent sum.\n",
    "\n",
    "Show the percentage of times a double (like [2,2] or [5,5]) occurs."
   ]
  },
  {
   "cell_type": "code",
   "execution_count": null,
   "id": "d68f0580",
   "metadata": {},
   "outputs": [
    {
     "name": "stdout",
     "output_type": "stream",
     "text": [
      "14\n"
     ]
    }
   ],
   "source": [
    "dice=np.random.randint(1,7,size=(100,2))\n",
    "l=dice.sum(axis=1)\n",
    "count=0\n",
    "for i in np.nditer(l):\n",
    "    if i==7:\n",
    "        count+=1\n",
    "print(f\"Sum exactly 7 :{count}\")\n"
   ]
  },
  {
   "cell_type": "markdown",
   "id": "215e6b78",
   "metadata": {},
   "source": [
    "Given a 2D square array A of shape (N, N), extract the anti-diagonal (from top-right to bottom-left) using slicing."
   ]
  },
  {
   "cell_type": "code",
   "execution_count": null,
   "id": "c6f2b0b4",
   "metadata": {},
   "outputs": [
    {
     "name": "stdout",
     "output_type": "stream",
     "text": [
      "[[98 61  9 26]\n",
      " [67 50 61 72]\n",
      " [67 21 79 62]\n",
      " [ 4  5 93  5]]\n"
     ]
    },
    {
     "data": {
      "text/plain": [
       "array([26, 61, 21,  4], dtype=int32)"
      ]
     },
     "execution_count": 12,
     "metadata": {},
     "output_type": "execute_result"
    }
   ],
   "source": [
    "n=np.random.randint(1,100,16).reshape(4,4)\n",
    "print(n)\n",
    "np.fliplr(n).diagonal()"
   ]
  },
  {
   "cell_type": "markdown",
   "id": "278acddc",
   "metadata": {},
   "source": [
    "Given a 2D array, reverse each row without using a loop."
   ]
  },
  {
   "cell_type": "code",
   "execution_count": 14,
   "id": "1b89b03c",
   "metadata": {},
   "outputs": [
    {
     "name": "stdout",
     "output_type": "stream",
     "text": [
      "[[98 61  9 26]\n",
      " [67 50 61 72]\n",
      " [67 21 79 62]\n",
      " [ 4  5 93  5]]\n"
     ]
    },
    {
     "data": {
      "text/plain": [
       "array([[ 4,  5, 93,  5],\n",
       "       [67, 21, 79, 62],\n",
       "       [67, 50, 61, 72],\n",
       "       [98, 61,  9, 26]], dtype=int32)"
      ]
     },
     "execution_count": 14,
     "metadata": {},
     "output_type": "execute_result"
    }
   ],
   "source": [
    "print(n)\n",
    "n[::-1,:]"
   ]
  },
  {
   "cell_type": "markdown",
   "id": "5daff343",
   "metadata": {},
   "source": [
    "From a 2D array of shape (6,6), extract only the border elements (top row, bottom row, first column, last column) as a 1D array."
   ]
  },
  {
   "cell_type": "code",
   "execution_count": 22,
   "id": "01063213",
   "metadata": {},
   "outputs": [
    {
     "name": "stdout",
     "output_type": "stream",
     "text": [
      "[[98 61  9 26]\n",
      " [67 50 61 72]\n",
      " [67 21 79 62]\n",
      " [ 4  5 93  5]]\n",
      "[[98 61  9 26]\n",
      " [ 4  5 93  5]]\n"
     ]
    },
    {
     "data": {
      "text/plain": [
       "array([[67, 72],\n",
       "       [67, 62]], dtype=int32)"
      ]
     },
     "execution_count": 22,
     "metadata": {},
     "output_type": "execute_result"
    }
   ],
   "source": [
    "print(n)\n",
    "print(n[[0,3]])\n",
    "n[1:3,[0,3]]"
   ]
  },
  {
   "cell_type": "markdown",
   "id": "0aca283e",
   "metadata": {},
   "source": [
    "Find the nearest element in the array to a given integer."
   ]
  },
  {
   "cell_type": "code",
   "execution_count": 16,
   "id": "2e64b347",
   "metadata": {},
   "outputs": [
    {
     "name": "stdout",
     "output_type": "stream",
     "text": [
      "[15 16 92 24 34  1 44 83 31 52 99 77 11 30 56  1 12 34 55 22  3 85 45 44\n",
      " 23 61 71 42 67 62 21 66 75 15 68 28  4 28 38 67 20 75 20 85 65 92 46 22\n",
      " 98 28 43 16 95 38 43 95]\n",
      "4\n"
     ]
    }
   ],
   "source": [
    "array=np.random.randint(1,100,56)\n",
    "print(array)\n",
    "target=int(input(\"Enter the target : \"))\n",
    "result=array[np.abs(array-target).argmin()]\n",
    "print(result)"
   ]
  },
  {
   "cell_type": "code",
   "execution_count": 50,
   "id": "63652edd",
   "metadata": {},
   "outputs": [],
   "source": [
    "import numpy as np"
   ]
  },
  {
   "cell_type": "markdown",
   "id": "63b3d321",
   "metadata": {},
   "source": [
    "Replace multiples of 3 or 5 as 0 in the given array."
   ]
  },
  {
   "cell_type": "code",
   "execution_count": 8,
   "id": "cd981aa8",
   "metadata": {},
   "outputs": [
    {
     "data": {
      "text/plain": [
       "array([1, 2, 0, 4, 0, 0, 7, 0])"
      ]
     },
     "execution_count": 8,
     "metadata": {},
     "output_type": "execute_result"
    }
   ],
   "source": [
    "arr=np.array([1,2,3,4,5,6,7,9])\n",
    "arr[(arr%3==0) | (arr%5==0)]=0\n",
    "arr"
   ]
  },
  {
   "cell_type": "markdown",
   "id": "5301c680",
   "metadata": {},
   "source": [
    "Double the array elements at given indexes\n",
    "indexes = [0,3,4,9]"
   ]
  },
  {
   "cell_type": "code",
   "execution_count": 13,
   "id": "fa6f115c",
   "metadata": {},
   "outputs": [
    {
     "name": "stdout",
     "output_type": "stream",
     "text": [
      "[0 1 2 3 4 5 6 7 8 9]\n"
     ]
    },
    {
     "data": {
      "text/plain": [
       "array([ 0,  1,  2,  6,  8,  5,  6,  7,  8, 18])"
      ]
     },
     "execution_count": 13,
     "metadata": {},
     "output_type": "execute_result"
    }
   ],
   "source": [
    "arr=np.arange(10)\n",
    "indexes=[0,3,4,9]\n",
    "print(arr)\n",
    "arr[indexes]=arr[indexes]*2\n",
    "arr"
   ]
  },
  {
   "cell_type": "markdown",
   "id": "f0773e30",
   "metadata": {},
   "source": [
    "Using a given array make a different array as in below example\n",
    "\n",
    "array = [1,2,3]\n",
    "result array -> [1 1 1 2 2 2 3 3 3]"
   ]
  },
  {
   "cell_type": "code",
   "execution_count": 15,
   "id": "14a10071",
   "metadata": {},
   "outputs": [
    {
     "data": {
      "text/plain": [
       "array([1, 1, 1, 2, 2, 2, 3, 3, 3])"
      ]
     },
     "execution_count": 15,
     "metadata": {},
     "output_type": "execute_result"
    }
   ],
   "source": [
    "array=[1,2,3]\n",
    "result=np.repeat(array,3)\n",
    "result"
   ]
  },
  {
   "cell_type": "markdown",
   "id": "3437cfe7",
   "metadata": {},
   "source": [
    " Your are given an array which is havig some nan value. You job is to fill those nan values with most common element in the array."
   ]
  },
  {
   "cell_type": "code",
   "execution_count": 26,
   "id": "75656703",
   "metadata": {},
   "outputs": [
    {
     "data": {
      "text/plain": [
       "array([[1., 2., 2.],\n",
       "       [4., 2., 6.],\n",
       "       [2., 2., 5.]])"
      ]
     },
     "execution_count": 26,
     "metadata": {},
     "output_type": "execute_result"
    }
   ],
   "source": [
    "arr=np.array([[1,2,np.nan],[4,2,6],[np.nan,np.nan,5]])\n",
    "flat=arr.flatten()\n",
    "flat=flat[~np.isnan(flat)]\n",
    "values,count=np.unique(flat,return_counts=True)\n",
    "common=values[np.argmax(count)]\n",
    "result=np.nan_to_num(arr,nan=common)\n",
    "result"
   ]
  },
  {
   "cell_type": "markdown",
   "id": "ea13918a",
   "metadata": {},
   "source": [
    "Write a NumPy program\n",
    "to find the missing data in a given array. Return a boolean matrix.\n",
    "also try to fill those missing values with 0. For that, you can use np.nan_to_num(a)\n"
   ]
  },
  {
   "cell_type": "code",
   "execution_count": 29,
   "id": "97b7736e",
   "metadata": {},
   "outputs": [
    {
     "name": "stdout",
     "output_type": "stream",
     "text": [
      "[[False False  True False]\n",
      " [False False False False]\n",
      " [False  True False  True]]\n"
     ]
    },
    {
     "data": {
      "text/plain": [
       "array([[ 3.,  2.,  0.,  1.],\n",
       "       [10., 12., 10.,  9.],\n",
       "       [ 5.,  0.,  1.,  0.]])"
      ]
     },
     "execution_count": 29,
     "metadata": {},
     "output_type": "execute_result"
    }
   ],
   "source": [
    "array=np.array([[3, 2, np.nan, 1],\n",
    "          [10, 12, 10, 9],\n",
    "          [5, np.nan, 1, np.nan]])\n",
    "print(np.isnan(array))\n",
    "array=np.nan_to_num(array)\n",
    "array"
   ]
  },
  {
   "cell_type": "markdown",
   "id": "02f37530",
   "metadata": {},
   "source": [
    "Create a random 3x4 matrix with value between 0-100. And perform below tasks\n",
    "i. Sort this matrix. np.sort()\n",
    "ii. Sort this matrix based on values in 2nd column.\n",
    "iii. Sort this matrix based on max value in each row.\n",
    "iv. Sort based on elements value."
   ]
  },
  {
   "cell_type": "code",
   "execution_count": 54,
   "id": "674bb952",
   "metadata": {},
   "outputs": [
    {
     "name": "stdout",
     "output_type": "stream",
     "text": [
      "[[44 47 64 67]\n",
      " [67  9 83 21]\n",
      " [36 87 70 88]]\n"
     ]
    },
    {
     "data": {
      "text/plain": [
       "array([[67,  9, 83, 21],\n",
       "       [44, 47, 64, 67],\n",
       "       [36, 87, 70, 88]], dtype=int32)"
      ]
     },
     "execution_count": 54,
     "metadata": {},
     "output_type": "execute_result"
    }
   ],
   "source": [
    "np.random.seed(0)\n",
    "r=np.random.randint(0,100,(3,4))\n",
    "print(r)\n",
    "np.sort(r,axis=1)\n",
    "result=r[r[:,1].argsort()]\n",
    "result"
   ]
  },
  {
   "cell_type": "code",
   "execution_count": 64,
   "id": "32d44b01",
   "metadata": {},
   "outputs": [
    {
     "name": "stdout",
     "output_type": "stream",
     "text": [
      "[[44 47 64 67]\n",
      " [67  9 83 21]\n",
      " [36 87 70 88]]\n"
     ]
    },
    {
     "data": {
      "text/plain": [
       "array([[44, 47, 64, 67],\n",
       "       [67,  9, 83, 21],\n",
       "       [36, 87, 70, 88]], dtype=int32)"
      ]
     },
     "execution_count": 64,
     "metadata": {},
     "output_type": "execute_result"
    }
   ],
   "source": [
    "print(r)\n",
    "m=np.max(r,axis=1)\n",
    "sorted=r[np.argsort(m)]\n",
    "sorted"
   ]
  },
  {
   "cell_type": "markdown",
   "id": "6ed74440",
   "metadata": {},
   "source": [
    " There is an array of marks of 5 students in 4 subjects. Further you are asked to perform below task.\n",
    "\n",
    "i. Add marks every student of an extra subject in the same array.\n",
    "\n",
    "ii. Add two new students marks in respective 5 subjects.(one subject added in above task)\n",
    "\n",
    "iii. Add extra column with sum of all subjects(5-subjects) marks\n",
    "\n",
    "iv. Sort the array(non-ascending order) on total marks column--one added in above task. Show top 2 rows."
   ]
  }
 ],
 "metadata": {
  "kernelspec": {
   "display_name": "Python 3",
   "language": "python",
   "name": "python3"
  },
  "language_info": {
   "codemirror_mode": {
    "name": "ipython",
    "version": 3
   },
   "file_extension": ".py",
   "mimetype": "text/x-python",
   "name": "python",
   "nbconvert_exporter": "python",
   "pygments_lexer": "ipython3",
   "version": "3.12.3"
  }
 },
 "nbformat": 4,
 "nbformat_minor": 5
}
